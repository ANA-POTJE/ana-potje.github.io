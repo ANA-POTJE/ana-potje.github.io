{
 "cells": [
  {
   "cell_type": "code",
   "execution_count": 2,
   "metadata": {},
   "outputs": [],
   "source": [
    "import json\n",
    "import uuid\n",
    "import getCredibilityScore as cr\n",
    "import validators\n",
    "\n",
    "def lambda_handler(event, context):\n",
    "## event must be a dict with a url key, and context can be nothing:\n",
    "## lambda_handler({\"url\":\"http://bbc.co.uk\"}, \"\")\n",
    "\n",
    "######    print(event)\n",
    "    requestid = str(uuid.uuid4())\n",
    "    \n",
    "    try:\n",
    "        url = event['url']\n",
    "    except KeyError:\n",
    "        return {\n",
    "            'statusCode': 400,\n",
    "            'body': json.dumps(\"no url\")\n",
    "        }\n",
    "\n",
    "    if (not validators.url(url)):\n",
    "        return json.dumps({\"error\" : \"Invalid URL\"})\n",
    "    \n",
    "    credibilityresult = cr.getCredibilityScore(url)\n",
    "    \n",
    "    object = {\n",
    "        \"requestid\" : requestid,\n",
    "        \"url\" : url,\n",
    "        \"status\" : \"processed\",\n",
    "        \"results\" : [\n",
    "            credibilityresult\n",
    "        ]\n",
    "    }\n",
    "    \n",
    "    jsonresponse = json.dumps(object)\n",
    "    return jsonresponse\n",
    "#####print(lambda_handler({\"url\":\"http://bbc.co.uk\"}, \"\"))"
   ]
  },
  {
   "cell_type": "code",
   "execution_count": 5,
   "metadata": {},
   "outputs": [
    {
     "data": {
      "text/plain": [
       "[{'type': 'credibility', 'score': -1}]"
      ]
     },
     "execution_count": 5,
     "metadata": {},
     "output_type": "execute_result"
    }
   ],
   "source": [
    "###event_URL = {\"url\":\"xxxxxhttp://bbc.co.uk\"}\n",
    "event_URL = {\"url\":\"https://socialistworker.co.uk/\"}\n",
    "\n",
    "lambda_handler(event_URL, '')\n",
    "\n",
    "ret_dict = eval(lambda_handler(event_URL, '')) \n",
    "\n",
    "#if ret_dict['error'] == 'Invalid URL':\n",
    "#    test = 'error'\n",
    "#else:\n",
    "#    test = 'OK'\n",
    "#print(test)\n",
    "\n",
    "ret_dict['results']"
   ]
  },
  {
   "cell_type": "code",
   "execution_count": 23,
   "metadata": {},
   "outputs": [
    {
     "name": "stdout",
     "output_type": "stream",
     "text": [
      "OK\n"
     ]
    }
   ],
   "source": [
    "result_score = [{\"type\": \"credibility\", \"score\": 95.0, \"source\": \"Media Bias/Fact Check\", \"category\": \"UNS\"}]\n",
    "\n",
    "if result_score == ret_dict['results']:\n",
    "    print('OK')\n",
    "else:\n",
    "    print('error')\n",
    "\n",
    "#assert result_json ==  "
   ]
  },
  {
   "cell_type": "code",
   "execution_count": 24,
   "metadata": {},
   "outputs": [
    {
     "name": "stdout",
     "output_type": "stream",
     "text": [
      "[{'type': 'credibility', 'score': 95.0, 'source': 'Media Bias/Fact Check', 'category': 'UNS'}]\n",
      "[{'type': 'credibility', 'score': 95.0, 'source': 'Media Bias/Fact Check', 'category': 'UNS'}]\n"
     ]
    }
   ],
   "source": [
    "print(result_score)\n",
    "print(ret_dict['results'])"
   ]
  },
  {
   "cell_type": "code",
   "execution_count": null,
   "metadata": {},
   "outputs": [],
   "source": [
    "{\n",
    "    'requestid': 'e27bd601-0915-404e-ac59-db807385b307',\n",
    "    'url': 'http://bbc.co.uk',\n",
    "    'status': 'processed',\n",
    "    'results': [{\n",
    "        'type': 'credibility',\n",
    "        'score': 95.0,\n",
    "        'source': 'Media Bias/Fact Check',\n",
    "        'category': 'UNS'\n",
    "    }]\n",
    "}"
   ]
  },
  {
   "cell_type": "code",
   "execution_count": null,
   "metadata": {},
   "outputs": [],
   "source": [
    "## Function: test_lambda_handler.py\n",
    "## Author: The Sentimentalists / Ana B Potje\n",
    "## Date: 05/10/2020\n",
    "##\n",
    "## Tests the Function \"lambda_handler.py\"\n",
    "## Uses PYTEST framework\n",
    "###########################################################################################################\n",
    "\n",
    "import lambda_function as lf   # The code to test\n",
    "\n",
    "def test_URL_with_Score(): \n",
    "    result_score = [{\"type\": \"credibility\", \"score\": 95.0, \"source\": \"Media Bias/Fact Check\", \"category\": \"UNS\"}]\n",
    "    result_dict = eval(lf.lambda_handler({\"url\":\"https://www.bbc.co.uk/news/uk-54234084\"}, \"\"))\n",
    "    assert result_dict['results'] == result_score\n",
    "    \n",
    "def test_invalid_URL(): \n",
    "    result_dict = eval(lf.lambda_handler({\"url\":\"xxxxx\"}, \"\"))\n",
    "    assert result_dict['error'] == 'Invalid URL'\n"
   ]
  },
  {
   "cell_type": "code",
   "execution_count": null,
   "metadata": {},
   "outputs": [],
   "source": []
  },
  {
   "cell_type": "code",
   "execution_count": null,
   "metadata": {},
   "outputs": [],
   "source": [
    "##### INCLUDING HTTPS"
   ]
  },
  {
   "cell_type": "code",
   "execution_count": 44,
   "metadata": {},
   "outputs": [
    {
     "name": "stdout",
     "output_type": "stream",
     "text": [
      "https://abc.co.uk\n"
     ]
    },
    {
     "data": {
      "text/plain": [
       "True"
      ]
     },
     "execution_count": 44,
     "metadata": {},
     "output_type": "execute_result"
    }
   ],
   "source": [
    "#url = \"https://bbc.co.uk\"\n",
    "\n",
    "url = \"abc.co.uk\"\n",
    "\n",
    "###########url_new = url\n",
    "\n",
    "if (not url.startswith('https://') and not url.startswith('http://')):\n",
    "    url = 'https://' + url\n",
    "\n",
    "###########if (not validators.url(url_new)):\n",
    "###########    if (not url.startswith('https://') and not url.startswith('http://')):\n",
    "###########        url_new = 'http://' + url\n",
    "\n",
    "print(url)\n",
    "validators.url(url)"
   ]
  },
  {
   "cell_type": "code",
   "execution_count": null,
   "metadata": {},
   "outputs": [],
   "source": []
  },
  {
   "cell_type": "code",
   "execution_count": 17,
   "metadata": {},
   "outputs": [
    {
     "data": {
      "text/plain": [
       "'https://bbc.co.uk'"
      ]
     },
     "execution_count": 17,
     "metadata": {},
     "output_type": "execute_result"
    }
   ],
   "source": [
    "str = \"https://bbc.co.uk\"\n",
    "\n",
    "if (not str.startswith('https://')):\n",
    "    str = 'https://' + str\n",
    "\n",
    "str"
   ]
  },
  {
   "cell_type": "code",
   "execution_count": null,
   "metadata": {},
   "outputs": [],
   "source": []
  },
  {
   "cell_type": "code",
   "execution_count": null,
   "metadata": {},
   "outputs": [],
   "source": []
  },
  {
   "cell_type": "code",
   "execution_count": null,
   "metadata": {},
   "outputs": [],
   "source": []
  },
  {
   "cell_type": "code",
   "execution_count": null,
   "metadata": {},
   "outputs": [],
   "source": []
  },
  {
   "cell_type": "code",
   "execution_count": null,
   "metadata": {},
   "outputs": [],
   "source": []
  }
 ],
 "metadata": {
  "kernelspec": {
   "display_name": "Python 3",
   "language": "python",
   "name": "python3"
  },
  "language_info": {
   "codemirror_mode": {
    "name": "ipython",
    "version": 3
   },
   "file_extension": ".py",
   "mimetype": "text/x-python",
   "name": "python",
   "nbconvert_exporter": "python",
   "pygments_lexer": "ipython3",
   "version": "3.8.5"
  }
 },
 "nbformat": 4,
 "nbformat_minor": 4
}
