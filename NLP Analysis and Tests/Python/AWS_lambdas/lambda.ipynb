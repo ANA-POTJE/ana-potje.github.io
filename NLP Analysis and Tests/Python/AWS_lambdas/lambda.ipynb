{
 "cells": [
  {
   "cell_type": "code",
   "execution_count": 4,
   "metadata": {},
   "outputs": [],
   "source": [
    "from aws_xray_sdk.core import xray_recorder\n",
    "from aws_xray_sdk.core import patch\n",
    "import json\n",
    "import getCredibilityScore as cr\n",
    "import sentimentAnalysis as sa\n",
    "import getBiasScore as bs\n",
    "import spacyMatcher as sm\n",
    "import validators\n",
    "import sys\n",
    "import logging\n",
    "import traceback\n",
    "\n",
    "segment = xray_recorder.begin_segment('lambda_handler')\n",
    "\n",
    "logger = logging.getLogger()\n",
    "logger.setLevel(logging.INFO)\n",
    "\n",
    "@xray_recorder.capture('lambda_handler')\n",
    "def lambda_handler(event, context):\n",
    "\n",
    "    ## event must be a dict with a url key, and context can be nothing:\n",
    "    ## lambda_handler({\"url\":\"http://bbc.co.uk\"}, \"\")\n",
    "\n",
    "    subsegment = xray_recorder.begin_subsegment('lambda_function: check URL')\n",
    "    logger.info(f'LambdaFunction: Checking we have a URL...')\n",
    "    try:\n",
    "        url = event['url']\n",
    "    except KeyError:\n",
    "        logger.info(f'LambdaFunction: URL is not present.')\n",
    "        return {\"error\" : \"No URL provided\"}\n",
    "\n",
    "    xray_recorder.end_subsegment()\n",
    "\n",
    "    #### Adding \"https://\" to the URL if not present\n",
    "    logger.info(f'LambdaFunction: Checking URL has protocol...')\n",
    "    subsegment = xray_recorder.begin_subsegment('lambda_function: check URL protocol')\n",
    "    if (not url.startswith('https://') and not url.startswith('http://')):\n",
    "        url = 'https://' + url\n",
    "    xray_recorder.end_subsegment()\n",
    "\n",
    "    logger.info(f'LambdaFunction: Validating URL...')\n",
    "    subsegment = xray_recorder.begin_subsegment('lambda_function: validate URL')\n",
    "    if (not validators.url(url)):\n",
    "        logger.info(f'LambdaFunction: URL is not valid.')\n",
    "        return {\"error\" : \"The url was bad\"}\n",
    "    xray_recorder.end_subsegment()\n",
    "\n",
    "    #### Define the object skeleton\n",
    "    object = {\n",
    "        \"url\" : url,\n",
    "        \"results\" : []\n",
    "    }\n",
    "\n",
    "    logger.info(f'LambdaFunction: Trying to get credibility score...')\n",
    "    credibilityresult = {}\n",
    "    try:\n",
    "        credibilityresult = cr.getCredibilityScore(url)\n",
    "        object['results'].append(credibilityresult)\n",
    "    except Exception as e:\n",
    "        logger.info(f'LambdaFunction: Could not get Credibility Score.')\n",
    "        logger.info(e)\n",
    "        credibilityresult = {'type': 'credibility', 'outcome': {\"error\" : \"The credibility score was not available.\"}}\n",
    "        object['results'].append(credibilityresult)\n",
    "\n",
    "    logger.info(f'LambdaFunction: Trying to get sentimentAnalysis score...')\n",
    "    sentanalysisresult = {}\n",
    "    try:\n",
    "        sentanalysisresult = sa.sentimentAnalysis(url)\n",
    "        if sentanalysisresult['text'] == '-1':\n",
    "            logger.info(f'LambdaFunction: sentimentAnalysis returned -1, dumping:')\n",
    "            logger.info(sentanalysisresult)\n",
    "            object['article'] = {'error': \"The article summary could not be generated\"}\n",
    "            object['results'].append({'type': 'polarity',     \"outcome\": {\"error\" : \"The polarity score could not be calculated.\"}})\n",
    "            object['results'].append({'type': 'objectivity', \"outcome\": {\"error\" : \"The objectivity score could not be calculated.\"}})\n",
    "        else:\n",
    "            object['article'] = {'header': sentanalysisresult['header'], \n",
    "                                    'summary': sentanalysisresult['summary'],\n",
    "                                    'keywords': sentanalysisresult['keywords']}\n",
    "            object['results'].append({'type': 'polarity',     'outcome': {\"score\": sentanalysisresult['polarity']}})\n",
    "            object['results'].append({'type': 'objectivity', 'outcome': {\"score\": abs(1 - sentanalysisresult['subjectivity'])}})\n",
    "    except Exception as e:\n",
    "        logger.info(f'LambdaFunction: Could not get sentimentAnalysis Score.')\n",
    "        exception_type, exception_value, exception_traceback = sys.exc_info()\n",
    "        traceback_string = traceback.format_exception(exception_type, exception_value, exception_traceback)\n",
    "        err_msg = json.dumps({\n",
    "            \"errorType\": exception_type.__name__,\n",
    "            \"errorMessage\": str(exception_value),\n",
    "            \"stackTrace\": traceback_string\n",
    "        })\n",
    "        logger.error(err_msg)\n",
    "\n",
    "        sentanalysisresult = {'text': -1}\n",
    "        object['article'] = {'error': \"The article summary could not be generated\"}\n",
    "        object['results'].append({'type': 'polarity',     \"outcome\": {\"error\" : \"The polarity score could not be calculated.\"}})\n",
    "        object['results'].append({'type': 'objectivity', \"outcome\": {\"error\" : \"The objectivity score could not be calculated.\"}})\n",
    "\n",
    "    logger.info(f'LambdaFunction: Trying to get bias score...')\n",
    "    if sentanalysisresult['text'] != '-1':\n",
    "        if 'error' in credibilityresult['outcome']:\n",
    "            cred_input = -1\n",
    "        else:\n",
    "            cred_input = credibilityresult['outcome']['score']\n",
    "        try:\n",
    "            biasscoreresult = bs.getBiasScore(cred_input, sentanalysisresult['polarity'], sentanalysisresult['subjectivity'])\n",
    "            object['results'].append(biasscoreresult)\n",
    "        except Exception as e:\n",
    "            logger.info(f'LambdaFunction: Could not get Bias Score.')\n",
    "            logger.info(e)\n",
    "            object['results'].append({'type': 'bias', 'outcome': {\"error\" : \"The bias score was not available.\"}})\n",
    "    else:\n",
    "        object['results'].append({'type': 'bias', 'outcome': {\"error\" : \"The bias score was not available.\"}})\n",
    "\n",
    "        \n",
    "        \n",
    "    if sentanalysisresult['text'] != '-1':\n",
    "        try:\n",
    "            text = ('Today - News from BBC: Bad news for Donald Trump in USA, 90% of the population complain '\n",
    "                    'and a thousand people shout in English on the streets - this happened at 11:00. '\n",
    "                    'Also, the Rocky Mountains seems to be more and more in risk ... Spanish nationals are applying for a permit. '\n",
    "                    'World War II truly changed the world. The Bible is the most read book in the world. '\n",
    "                    'The third released collection is worth £10,000,000. Not easy to walk 20 kilometers in that steep hilly place...')\n",
    "\n",
    "            ##list_objs = sm.spacyMatcher(text, '') ###sentanalysisresult['text'], '') ## ALL Tags\n",
    "            list_objs = sm.spacyMatcher(sentanalysisresult['text'], '') ## ALL Tags            \n",
    "            object['article']['topics'] = list_objs            \n",
    "        except Exception as e:\n",
    "            logger.info(f'LambdaFunction: Could not get Topics.')\n",
    "            logger.info(e)\n",
    "            object['article']['topics'] = {\"error\" : \"No topics available.\"}\n",
    "        \n",
    "    #### Intended object to return:\n",
    "    # {\n",
    "    #   'url':'http://bbc.co.uk',\n",
    "    #   'article' : {\n",
    "    #     'header' : 'An Article Title',\n",
    "    #     'summary' : 'The Article Summary',\n",
    "    #     'keywords' : ['Boris Johnson', 'Brexit']\n",
    "    #   },\n",
    "    #   'results' : [\n",
    "    #     { 'type' : 'credibility' ...... },\n",
    "    #     { 'type' : 'polarity' ..... },\n",
    "    #     { 'type' : 'objectivity' .....},\n",
    "    #     { 'type' : 'biasscore' .....}\n",
    "    #   ]\n",
    "    # }\n",
    "\n",
    "    return object\n",
    "\n",
    "xray_recorder.end_segment()"
   ]
  },
  {
   "cell_type": "code",
   "execution_count": 7,
   "metadata": {},
   "outputs": [
    {
     "name": "stdout",
     "output_type": "stream",
     "text": [
      "sentimentAnalysis: Trying getText()\n",
      "getText: Initialising Article...\n",
      "getText: Downloading Article...\n",
      "getText: Parsing Article...\n",
      "sentimentAnalysis: Dumping return:\n",
      "{'text': 'Horrible Day!Today is a horrible day. Today is a horrible day. Today is a horrible day.', 'header': 'Test', 'summary': 'Horrible Day!\\nToday is a horrible day.\\nToday is a horrible day.\\nToday is a horrible day.', 'keywords': ['daytoday', 'today', 'test', 'horrible', 'day']}\n"
     ]
    }
   ],
   "source": [
    "###def test_BiasScore_noPolSubj():\n",
    "\n",
    "result_dict = lambda_handler({\"url\":'http://sentimentalists-tests.s3-website.eu-west-2.amazonaws.com/today.html'}, \"\")\n",
    "#result_dict = lambda_handler({\"url\":\"http://bbc.co.uk\"}, \"\")\n",
    "\n",
    "#result_dict = lambda_handler({\"url\":'https://www.theguardian.com/world/2020/oct/22/england-test-and-trace-reaching-fewer-covid-contacts-than-ever'}, \"\")\n",
    "\n",
    "#result_score = {'type': 'bias', 'outcome': {\"error\" : \"The bias score was not available.\"}}\n",
    "#assert result_dict['results'][3] == result_score\n"
   ]
  },
  {
   "cell_type": "code",
   "execution_count": 8,
   "metadata": {},
   "outputs": [
    {
     "data": {
      "text/plain": [
       "{'url': 'http://sentimentalists-tests.s3-website.eu-west-2.amazonaws.com/today.html',\n",
       " 'results': [{'type': 'credibility',\n",
       "   'outcome': {'error': 'The credibility score was not available.'}},\n",
       "  {'type': 'polarity', 'outcome': {'score': -1.0}},\n",
       "  {'type': 'objectivity', 'outcome': {'score': 0.0}},\n",
       "  {'type': 'bias', 'outcome': {'score': 100.0}}],\n",
       " 'article': {'header': 'Test',\n",
       "  'summary': 'Horrible Day!\\nToday is a horrible day.\\nToday is a horrible day.\\nToday is a horrible day.',\n",
       "  'keywords': ['daytoday', 'today', 'test', 'horrible', 'day'],\n",
       "  'topics': [{'type': 'DATE', 'topic': 'Today'}]}}"
      ]
     },
     "execution_count": 8,
     "metadata": {},
     "output_type": "execute_result"
    }
   ],
   "source": [
    "result_dict"
   ]
  },
  {
   "cell_type": "code",
   "execution_count": 48,
   "metadata": {},
   "outputs": [
    {
     "data": {
      "text/plain": [
       "{'url': 'http://sentimentalists-tests.s3-website.eu-west-2.amazonaws.com/today.html',\n",
       " 'results': [{'type': 'credibility',\n",
       "   'outcome': {'error': 'The credibility score was not available.'}},\n",
       "  {'type': 'polarity', 'outcome': {'score': -1.0}},\n",
       "  {'type': 'objectivity', 'outcome': {'score': 0.0}},\n",
       "  {'type': 'bias', 'outcome': {'score': 100.0}}],\n",
       " 'article': {'header': 'Test',\n",
       "  'summary': 'Horrible Day!\\nToday is a horrible day.\\nToday is a horrible day.\\nToday is a horrible day.',\n",
       "  'keywords': ['today', 'horrible', 'daytoday', 'day', 'test'],\n",
       "  'topics': [{'type': 'DATE', 'topic': 'Today'}]}}"
      ]
     },
     "execution_count": 48,
     "metadata": {},
     "output_type": "execute_result"
    }
   ],
   "source": [
    "result_dict"
   ]
  },
  {
   "cell_type": "code",
   "execution_count": 16,
   "metadata": {},
   "outputs": [],
   "source": [
    "def getBiasScore(credibility, polarity, subjectivity):\n",
    "            \n",
    "    IncredibilityPercent = (100-credibility)\n",
    "    PolarityPercent = (polarity)*100\n",
    "    SubjectivityPercent = (subjectivity)*100\n",
    "    \n",
    "    if (credibility >= 0):\n",
    "        BiasIndicator = ((IncredibilityPercent + abs(PolarityPercent) + SubjectivityPercent)/3)\n",
    "    else:\n",
    "        BiasIndicator = ((abs(PolarityPercent)) + SubjectivityPercent)/2\n",
    "\n",
    "    response = {'type':'bias','outcome':{'score':BiasIndicator}}\n",
    "    return response\n"
   ]
  },
  {
   "cell_type": "code",
   "execution_count": 22,
   "metadata": {},
   "outputs": [],
   "source": [
    "def sentimentAnalysis(url):\n",
    "    import getText as getTxt\n",
    "    from textblob import TextBlob\n",
    "\n",
    "    dict_return = getTxt.getText(url)\n",
    "    testimonial = ''\n",
    "\n",
    "    if dict_return['text'] != '-1':\n",
    "        ### analysing the text \n",
    "        testimonial = TextBlob(dict_return['text'])\n",
    "        ## use the output as \"testimonial.sentiment\" or \"testimonial.sentences\"\n",
    "        dict_return['polarity'] = testimonial.sentiment.polarity\n",
    "        dict_return['subjectivity'] = testimonial.sentiment.subjectivity\n",
    "\n",
    "    return(dict_return)"
   ]
  },
  {
   "cell_type": "code",
   "execution_count": 23,
   "metadata": {},
   "outputs": [
    {
     "name": "stdout",
     "output_type": "stream",
     "text": [
      "getText: Initialising Article...\n",
      "getText: Downloading Article...\n",
      "getText: Parsing Article...\n",
      "getText: Exception: Article `download()` failed with No connection adapters were found for 'D:/AATechReturners/Pre-Journey/HTML/index2.html' on URL D:/AATechReturners/Pre-Journey/HTML/index2.html\n"
     ]
    },
    {
     "ename": "KeyError",
     "evalue": "'polarity'",
     "output_type": "error",
     "traceback": [
      "\u001b[1;31m---------------------------------------------------------------------------\u001b[0m",
      "\u001b[1;31mKeyError\u001b[0m                                  Traceback (most recent call last)",
      "\u001b[1;32m<ipython-input-23-3b4976bc4539>\u001b[0m in \u001b[0;36m<module>\u001b[1;34m\u001b[0m\n\u001b[0;32m      6\u001b[0m \u001b[1;33m\u001b[0m\u001b[0m\n\u001b[0;32m      7\u001b[0m \u001b[0msentanalysisresult\u001b[0m \u001b[1;33m=\u001b[0m \u001b[0msentimentAnalysis\u001b[0m\u001b[1;33m(\u001b[0m\u001b[0murl\u001b[0m\u001b[1;33m)\u001b[0m\u001b[1;33m\u001b[0m\u001b[1;33m\u001b[0m\u001b[0m\n\u001b[1;32m----> 8\u001b[1;33m \u001b[0mprint\u001b[0m\u001b[1;33m(\u001b[0m\u001b[0msentanalysisresult\u001b[0m\u001b[1;33m[\u001b[0m\u001b[1;34m'polarity'\u001b[0m\u001b[1;33m]\u001b[0m\u001b[1;33m)\u001b[0m \u001b[1;31m######## -1.0\u001b[0m\u001b[1;33m\u001b[0m\u001b[1;33m\u001b[0m\u001b[0m\n\u001b[0m\u001b[0;32m      9\u001b[0m \u001b[0mprint\u001b[0m\u001b[1;33m(\u001b[0m\u001b[0msentanalysisresult\u001b[0m\u001b[1;33m[\u001b[0m\u001b[1;34m'subjectivity'\u001b[0m\u001b[1;33m]\u001b[0m\u001b[1;33m)\u001b[0m\u001b[1;31m#####  1.0\u001b[0m\u001b[1;33m\u001b[0m\u001b[1;33m\u001b[0m\u001b[0m\n\u001b[0;32m     10\u001b[0m \u001b[1;33m\u001b[0m\u001b[0m\n",
      "\u001b[1;31mKeyError\u001b[0m: 'polarity'"
     ]
    }
   ],
   "source": [
    "#url = 'https://www.theguardian.com/world/2020/oct/22/england-test-and-trace-reaching-fewer-covid-contacts-than-ever'\n",
    "#url = \"http://sentimentalists-tests.s3-website.eu-west-2.amazonaws.com/today.html\"\n",
    "#url = 'https://www.bbc.co.uk/news/uk-54234084'\n",
    "\n",
    "url = 'D:/AATechReturners/Pre-Journey/HTML/index2.html'\n",
    "\n",
    "sentanalysisresult = sentimentAnalysis(url)\n",
    "print(sentanalysisresult['polarity']) ######## -1.0\n",
    "print(sentanalysisresult['subjectivity'])#####  1.0\n",
    "\n",
    "getBiasScore(95, sentanalysisresult['polarity'], sentanalysisresult['subjectivity'])\n"
   ]
  },
  {
   "cell_type": "code",
   "execution_count": 1,
   "metadata": {},
   "outputs": [],
   "source": [
    "### lambda\n",
    "\n",
    "import json\n",
    "import getCredibilityScore as cr\n",
    "import sentimentAnalysis as sa\n",
    "import validators\n",
    "\n",
    "def lambda_handler(event, context):\n",
    "## event must be a dict with a url key, and context can be nothing:\n",
    "## lambda_handler({\"url\":\"http://bbc.co.uk\"}, \"\")\n",
    "    \n",
    "    try:\n",
    "        url = event['url']\n",
    "    except KeyError:\n",
    "        return {\n",
    "            'statusCode': 400,\n",
    "            'body': json.dumps(\"no url\")\n",
    "        }\n",
    "\n",
    "    #### Adding \"https://\" to the URL if not present\n",
    "    if (not url.startswith('https://') and not url.startswith('http://')):\n",
    "        url = 'https://' + url\n",
    "\n",
    "    if (not validators.url(url)):\n",
    "        return json.dumps({\"error\" : \"The url was bad\"})\n",
    "\n",
    "    #### Define the object skeleton\n",
    "    object = {\n",
    "        \"url\" : url,\n",
    "        \"results\" : []\n",
    "    }\n",
    "\n",
    "    try:\n",
    "        credibilityresult = cr.getCredibilityScore(url)\n",
    "        object['results'].append(credibilityresult)\n",
    "    except Exception as e:\n",
    "        object['results'].append({'type': 'credibility', 'outcome': {'score': -1}})\n",
    "        \n",
    "    try:\n",
    "        sentanalysisresult = sa.sentimentAnalysis(url)\n",
    "        object['article'] = {'header': sentanalysisresult['header'], \n",
    "                             'summary': sentanalysisresult['summary'],\n",
    "                             'keywords': sentanalysisresult['keywords']}\n",
    "        object['results'].append({'type': 'polarity',     'outcome': sentanalysisresult['polarity']})\n",
    "        object['results'].append({'type': 'subjectivity', 'outcome': sentanalysisresult['subjectivity']})\n",
    "        object['results'].append({'type': 'objectivity', 'outcome': abs(1 - sentanalysisresult['subjectivity'])})\n",
    "    except Exception as e:\n",
    "        object['article'] = {'error': 'The article could not be retrieved.'}\n",
    "        object['results'].append({'type': 'polarity',     'error': 'no data available'})\n",
    "        object['results'].append({'type': 'subjectivity', 'error': 'no data available'})\n",
    "\n",
    "    #### Intended object to return:\n",
    "    # {\n",
    "    #   'url':'http://bbc.co.uk',\n",
    "    #   'article' : {\n",
    "    #     'header' : 'An Article Title',\n",
    "    #     'summary' : 'The Article Summary',\n",
    "    #     'keywords' : ['Boris Johnson', 'Brexit']\n",
    "    #   },\n",
    "    #   'results' : [\n",
    "    #     { 'type' : 'credibility' ...... },\n",
    "    #     { 'type' : 'polarity' ..... },\n",
    "    #     { 'type' : 'subjectivity' .....},\n",
    "    #     { 'type' : 'biasscore' .....}\n",
    "    #   ]\n",
    "    # }\n",
    "\n",
    "    jsonresponse = json.dumps(object)\n",
    "#    return jsonresponse\n",
    "\n",
    "    return object"
   ]
  },
  {
   "cell_type": "code",
   "execution_count": 19,
   "metadata": {},
   "outputs": [
    {
     "name": "stderr",
     "output_type": "stream",
     "text": [
      "[nltk_data] Downloading package punkt to\n",
      "[nltk_data]     C:\\Users\\ana\\AppData\\Roaming\\nltk_data...\n",
      "[nltk_data]   Package punkt is already up-to-date!\n"
     ]
    }
   ],
   "source": [
    "#url = 'http://sentimentalists-tests.s3-website.eu-west-2.amazonaws.com/today.html'\n",
    "#url = \"http://bbc.co.uk\"\n",
    "#url = 'https://www.theguardian.com/world/2020/oct/22/england-test-and-trace-reaching-fewer-covid-contacts-than-ever'\n",
    "#url = 'https://www.bbc.co.uk/news/uk-54234084'\n",
    "url = \"https://socialistworker.co.uk/\"\n",
    "a = lambda_handler({\"url\":url}, \"\")\n"
   ]
  },
  {
   "cell_type": "code",
   "execution_count": null,
   "metadata": {},
   "outputs": [],
   "source": [
    "    #### Intended object to return:\n",
    "    # {\n",
    "    #   'url':'http://bbc.co.uk',\n",
    "    #   'article' : {\n",
    "    #     'header' : 'An Article Title',\n",
    "    #     'summary' : 'The Article Summary',\n",
    "    #     'keywords' : ['Boris Johnson', 'Brexit']\n",
    "    #   },\n",
    "    #   'results' : [\n",
    "    #     { 'type' : 'credibility' ...... },\n",
    "    #     { 'type' : 'polarity' ..... },\n",
    "    #     { 'type' : 'subjectivity' .....},\n",
    "    #     { 'type' : 'biasscore' .....}\n",
    "    #   ]\n",
    "    # }\n"
   ]
  },
  {
   "cell_type": "code",
   "execution_count": 20,
   "metadata": {},
   "outputs": [
    {
     "data": {
      "text/plain": [
       "{'url': 'https://socialistworker.co.uk/',\n",
       " 'results': [{'type': 'credibility',\n",
       "   'outcome': {'error': 'The credibility score was not available.'}},\n",
       "  {'type': 'polarity', 'outcome': 0.16428571428571428},\n",
       "  {'type': 'subjectivity', 'outcome': 0.5726190476190476},\n",
       "  {'type': 'objectivity', 'outcome': 0.4273809523809524}],\n",
       " 'article': {'header': 'Socialist Worker (Britain)',\n",
       "  'summary': 'CommentWeak and nasty” has been a good description of all Tory governments since the fall of Margaret Thatcher nearly 30 years ago.\\nNone fit this description better than Boris Johnson’s administration.\\nAfter the appointment of anti-choice judge Amy Coney Barrett to the US Supreme Court, Sarah Bates looks at why opposing abortion is a defining issue for the right',\n",
       "  'keywords': ['thatcher',\n",
       "   'worker',\n",
       "   'sarah',\n",
       "   'tory',\n",
       "   'nasty',\n",
       "   'socialist',\n",
       "   'nearly',\n",
       "   'supreme',\n",
       "   'opposing',\n",
       "   'margaret',\n",
       "   'right',\n",
       "   'britain',\n",
       "   'description']}}"
      ]
     },
     "execution_count": 20,
     "metadata": {},
     "output_type": "execute_result"
    }
   ],
   "source": [
    "a"
   ]
  },
  {
   "cell_type": "code",
   "execution_count": 80,
   "metadata": {},
   "outputs": [
    {
     "data": {
      "text/plain": [
       "{'type': 'credibility', 'outcome': {'score': -1}}"
      ]
     },
     "execution_count": 80,
     "metadata": {},
     "output_type": "execute_result"
    }
   ],
   "source": [
    "a['results'][0]"
   ]
  },
  {
   "cell_type": "code",
   "execution_count": 81,
   "metadata": {},
   "outputs": [
    {
     "data": {
      "text/plain": [
       "{'type': 'polarity', 'outcome': -1.0}"
      ]
     },
     "execution_count": 81,
     "metadata": {},
     "output_type": "execute_result"
    }
   ],
   "source": [
    "a['results'][1]"
   ]
  },
  {
   "cell_type": "code",
   "execution_count": 82,
   "metadata": {},
   "outputs": [
    {
     "data": {
      "text/plain": [
       "{'type': 'subjectivity', 'outcome': 1.0}"
      ]
     },
     "execution_count": 82,
     "metadata": {},
     "output_type": "execute_result"
    }
   ],
   "source": [
    "a['results'][2]"
   ]
  },
  {
   "cell_type": "code",
   "execution_count": 86,
   "metadata": {},
   "outputs": [
    {
     "data": {
      "text/plain": [
       "'Test'"
      ]
     },
     "execution_count": 86,
     "metadata": {},
     "output_type": "execute_result"
    }
   ],
   "source": [
    "a['article']['header'] ##'Test'"
   ]
  },
  {
   "cell_type": "code",
   "execution_count": 88,
   "metadata": {},
   "outputs": [
    {
     "data": {
      "text/plain": [
       "'Horrible Day!\\nToday is a horrible day.\\nToday is a horrible day.\\nToday is a horrible day.'"
      ]
     },
     "execution_count": 88,
     "metadata": {},
     "output_type": "execute_result"
    }
   ],
   "source": [
    "a['article']['summary'] ##'Horrible Day!\\nToday is a horrible day.\\nToday is a horrible day.\\nToday is a horrible day.'"
   ]
  },
  {
   "cell_type": "code",
   "execution_count": 89,
   "metadata": {},
   "outputs": [
    {
     "data": {
      "text/plain": [
       "['test', 'horrible', 'today', 'day', 'daytoday']"
      ]
     },
     "execution_count": 89,
     "metadata": {},
     "output_type": "execute_result"
    }
   ],
   "source": [
    "a['article']['keywords'] ##['test', 'horrible', 'today', 'day', 'daytoday']"
   ]
  },
  {
   "cell_type": "code",
   "execution_count": null,
   "metadata": {},
   "outputs": [],
   "source": []
  },
  {
   "cell_type": "code",
   "execution_count": 17,
   "metadata": {},
   "outputs": [
    {
     "data": {
      "text/plain": [
       "0.4878467365967365"
      ]
     },
     "execution_count": 17,
     "metadata": {},
     "output_type": "execute_result"
    }
   ],
   "source": [
    "1 - 0.5121532634032635"
   ]
  },
  {
   "cell_type": "code",
   "execution_count": 18,
   "metadata": {},
   "outputs": [
    {
     "data": {
      "text/plain": [
       "0"
      ]
     },
     "execution_count": 18,
     "metadata": {},
     "output_type": "execute_result"
    }
   ],
   "source": [
    "abs(1 - 1)"
   ]
  },
  {
   "cell_type": "code",
   "execution_count": null,
   "metadata": {},
   "outputs": [],
   "source": []
  },
  {
   "cell_type": "code",
   "execution_count": null,
   "metadata": {},
   "outputs": [],
   "source": []
  },
  {
   "cell_type": "code",
   "execution_count": null,
   "metadata": {},
   "outputs": [],
   "source": []
  }
 ],
 "metadata": {
  "kernelspec": {
   "display_name": "Python 3",
   "language": "python",
   "name": "python3"
  },
  "language_info": {
   "codemirror_mode": {
    "name": "ipython",
    "version": 3
   },
   "file_extension": ".py",
   "mimetype": "text/x-python",
   "name": "python",
   "nbconvert_exporter": "python",
   "pygments_lexer": "ipython3",
   "version": "3.8.5"
  }
 },
 "nbformat": 4,
 "nbformat_minor": 4
}
