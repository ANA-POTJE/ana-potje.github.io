{
 "cells": [
  {
   "cell_type": "code",
   "execution_count": 84,
   "metadata": {},
   "outputs": [
    {
     "name": "stdout",
     "output_type": "stream",
     "text": [
      "   Polarity  Subjectivity\n",
      "0      0.55          0.75\n"
     ]
    },
    {
     "data": {
      "text/plain": [
       "0.41250000000000003"
      ]
     },
     "execution_count": 84,
     "metadata": {},
     "output_type": "execute_result"
    }
   ],
   "source": [
    "#############################################################################\n",
    "#This programm provides calculates BiasIndicator, Incredibility,Polarity,\n",
    "#Subjectivity as percentofBiasIndicator for further graphing\n",
    "#Article Incredibility, Polarity, Subjectivity taking in Article url as input \n",
    "#results are stored in Json and Excel\n",
    "#to be modified to accept 'url' from 'input field'\n",
    "#############################################################################\n",
    "\n",
    "import pandas as pd\n",
    "####import numpy as np\n",
    "import requests\n",
    "import matplotlib.pyplot as plt\n",
    "plt.rcdefaults()\n",
    "\n",
    "def getText(url):\n",
    "    from newspaper import Article\n",
    "    ### Getting the Text\n",
    "    article = Article(url)\n",
    "    article.download()\n",
    "    article.parse()\n",
    "    text = article.text\n",
    "    return(text);\n",
    "######################### Polarity and Subjectivity#################\n",
    "def sentimentAnalysis(url):\n",
    "    from textblob import TextBlob\n",
    "    text = getText(url)\n",
    "    ### analysing the text \n",
    "    testimonial = TextBlob(text)\n",
    "    return(testimonial);  \n",
    "\n",
    "#url = 'https://www.breitbart.com/2020-election/2020/10/03/as-trump-battles-covid-blm-antifa-disrupt-trump-rally-in-beverly-hills/'\n",
    "url = 'https://www.bbc.co.uk/news/uk-54234084'\n",
    "#url = 'https://metro.co.uk/2020/10/04/boris-johnson-admits-eat-out-to-help-out-could-have-helped-spread-covid-13370357/'\n",
    "#url = 'https://www.foxnews.com/politics/trump-coronavirus-health-update-sunday-walter-reed'\n",
    "#url = 'https://www.wsj.com/articles/covid-19-left-u-k-s-boris-johnson-and-brazils-jair-bolsonaro-unscathed-politically-11601739583'\n",
    "#url = 'https://www.nbcnews.com/news/us-news/canadian-woman-charged-sending-ricin-laced-letter-white-house-n1240760'\n",
    "\n",
    "getText(url)\n",
    "\n",
    "polaritySubjectivity= pd.DataFrame(sentimentAnalysis(url).sentiment)  \n",
    "polaritySubjectivity.rename(index={0:'Polarity',1:'Subjectivity'}, inplace=True)\n",
    "polaritySubjectivityResults=polaritySubjectivity.T\n",
    "print(polaritySubjectivityResults)\n",
    "def getCredibilityScore(url):\n",
    "####import requests\n",
    "    Gate_Source_Cred_API = \"https://cloud-api.gate.ac.uk/process-document/source-credibility?annotations=:DomainCredibility\"\n",
    "    reliability_txt = requests.post(Gate_Source_Cred_API, data = url, headers={'Content-Type': 'text/plain'}, \n",
    "                                    auth=('gc77cl10gevd', 'u7c5eeadladbtro9qul5'))\n",
    "    ## Auth key - Jyothsna\n",
    "    CredibilityText = reliability_txt.json()\n",
    "    if (CredibilityText['entities'] != {}):\n",
    "        for item in CredibilityText['entities']['DomainCredibility']:\n",
    "            CredibilityScore = item.get('credibility-score', 0)\n",
    "            CredibilityCategory = item.get('credibility-category', '')\n",
    "            CredibilitySource = item.get('credibility-source', '')\n",
    "            if item['credibility-source'] == 'Media Bias/Fact Check':\n",
    "                return(url, CredibilityScore, CredibilityCategory, CredibilitySource)\n",
    "    else:\n",
    "      return(\"Not Available\")    \n",
    "    ## in case there is no 'Media Bias/Fact Check' but a different source:\n",
    "    return(url, CredibilityScore, CredibilityCategory, CredibilitySource)\n",
    "\n",
    ".55 * .75"
   ]
  },
  {
   "cell_type": "code",
   "execution_count": 82,
   "metadata": {},
   "outputs": [
    {
     "data": {
      "text/html": [
       "<div>\n",
       "<style scoped>\n",
       "    .dataframe tbody tr th:only-of-type {\n",
       "        vertical-align: middle;\n",
       "    }\n",
       "\n",
       "    .dataframe tbody tr th {\n",
       "        vertical-align: top;\n",
       "    }\n",
       "\n",
       "    .dataframe thead th {\n",
       "        text-align: right;\n",
       "    }\n",
       "</style>\n",
       "<table border=\"1\" class=\"dataframe\">\n",
       "  <thead>\n",
       "    <tr style=\"text-align: right;\">\n",
       "      <th></th>\n",
       "      <th>Polarity</th>\n",
       "      <th>Subjectivity</th>\n",
       "    </tr>\n",
       "  </thead>\n",
       "  <tbody>\n",
       "    <tr>\n",
       "      <th>0</th>\n",
       "      <td>0.55</td>\n",
       "      <td>0.75</td>\n",
       "    </tr>\n",
       "  </tbody>\n",
       "</table>\n",
       "</div>"
      ],
      "text/plain": [
       "   Polarity  Subjectivity\n",
       "0      0.55          0.75"
      ]
     },
     "execution_count": 82,
     "metadata": {},
     "output_type": "execute_result"
    }
   ],
   "source": [
    "######################### credibility #################\n",
    "#getCredibilityScore(url)\n",
    "credibility= pd.DataFrame(getCredibilityScore(url))  \n",
    "credibility.rename(index={0:'Article',1:'CredibilityScore',2:'CredibilityCategory',3:'CredibilitySource'}, inplace=True)\n",
    "credibilityResults=credibility.T\n",
    "\n",
    "#############################################################\n",
    "\n",
    "result = pd.concat([credibilityResults, polaritySubjectivityResults], axis=1, sort=False)\n",
    "\n",
    "######################### BIAS Calculations #################\n",
    "import matplotlib.pyplot as plt\n",
    "plt.rcdefaults()\n",
    "\n",
    "IncredibilityPercent = (100-(credibilityResults['CredibilityScore']))\n",
    "PolarityPercent = ((polaritySubjectivityResults['Polarity'])*100)\n",
    "SubjectivityPercent = ((polaritySubjectivityResults['Subjectivity'])*100)\n",
    "\n",
    "TotalScore = (IncredibilityPercent+PolarityPercent+SubjectivityPercent)\n",
    "BiasIndicator = ((IncredibilityPercent + abs(PolarityPercent) + SubjectivityPercent)/3)\n",
    "\n",
    "ArticleIncredibilityInPercent = (100-(credibilityResults['CredibilityScore']))\n",
    "ArticlePolarityBetweenMod1to0 = (polaritySubjectivityResults['Polarity'])\n",
    "ArticleSubjectivityBetween0to1 = (polaritySubjectivityResults['Subjectivity'])\n",
    "\n",
    "Incredibility = (IncredibilityPercent/ TotalScore)*100\n",
    "Polarity = (PolarityPercent/ TotalScore)*100\n",
    "Subjectivity = (SubjectivityPercent/ TotalScore)*100\n",
    "result\n",
    "polaritySubjectivityResults"
   ]
  },
  {
   "cell_type": "code",
   "execution_count": 72,
   "metadata": {},
   "outputs": [
    {
     "data": {
      "text/html": [
       "<div>\n",
       "<style scoped>\n",
       "    .dataframe tbody tr th:only-of-type {\n",
       "        vertical-align: middle;\n",
       "    }\n",
       "\n",
       "    .dataframe tbody tr th {\n",
       "        vertical-align: top;\n",
       "    }\n",
       "\n",
       "    .dataframe thead th {\n",
       "        text-align: right;\n",
       "    }\n",
       "</style>\n",
       "<table border=\"1\" class=\"dataframe\">\n",
       "  <thead>\n",
       "    <tr style=\"text-align: right;\">\n",
       "      <th></th>\n",
       "      <th>Article</th>\n",
       "      <th>BiasIndicator</th>\n",
       "      <th>Incredibility%</th>\n",
       "      <th>Polarity%</th>\n",
       "      <th>Subjectivity%</th>\n",
       "    </tr>\n",
       "  </thead>\n",
       "  <tbody>\n",
       "    <tr>\n",
       "      <th>0</th>\n",
       "      <td>https://www.breitbart.com/2020-election/2020/10/03/as-trump-battles-covid-blm-antifa-disrupt-trump-rally-in-beverly-hills/</td>\n",
       "      <td>31.6751</td>\n",
       "      <td>54.7524</td>\n",
       "      <td>-1.51352</td>\n",
       "      <td>46.7612</td>\n",
       "    </tr>\n",
       "    <tr>\n",
       "      <th>1</th>\n",
       "      <td>https://www.bbc.co.uk/news/uk-54234084</td>\n",
       "      <td>45</td>\n",
       "      <td>3.7037</td>\n",
       "      <td>40.7407</td>\n",
       "      <td>55.5556</td>\n",
       "    </tr>\n",
       "  </tbody>\n",
       "</table>\n",
       "</div>"
      ],
      "text/plain": [
       "                                                                                                                      Article  \\\n",
       "0  https://www.breitbart.com/2020-election/2020/10/03/as-trump-battles-covid-blm-antifa-disrupt-trump-rally-in-beverly-hills/   \n",
       "1                                                                                      https://www.bbc.co.uk/news/uk-54234084   \n",
       "\n",
       "  BiasIndicator Incredibility% Polarity% Subjectivity%  \n",
       "0       31.6751        54.7524  -1.51352       46.7612  \n",
       "1            45         3.7037   40.7407       55.5556  "
      ]
     },
     "execution_count": 72,
     "metadata": {},
     "output_type": "execute_result"
    }
   ],
   "source": [
    "dfBias={'Article':url,'BiasIndicator':BiasIndicator,'Incredibility%' :Incredibility,\n",
    "        'Polarity%' : Polarity, 'Subjectivity%':Subjectivity,\n",
    "        ###'ArticleIncredibility': ArticleIncredibility, \n",
    "        ###'ArticlePolarity': ArticlePolarity, \n",
    "        ###'ArticleSubjectivity': ArticleSubjectivity\n",
    "       }\n",
    "\n",
    "### ANA\n",
    "#result['BiasIndicator']  = BiasIndicator\n",
    "#result['Incredibility%'] = Incredibility\n",
    "#result['Polarity%']      = Polarity\n",
    "#result['Subjectivity%']  = Subjectivity\n",
    "#resultBREITBART = result\n",
    "\n",
    "result= pd.DataFrame(dfBias)\n",
    "#result.to_excel(\"BiasIndicatorValues.xlsx\", sheet_name='results_1')  \n",
    "#result.to_json(r'D:\\AAtechreturners\\sentimentalists\\backend\\BiasIndicatorValues.json')\n",
    "\n",
    "###final_result = result\n",
    "#final_result.append(result)\n",
    "#final_result\n",
    "\n",
    "result\n",
    "#final_result = final_result.append(result, ignore_index=True)\n",
    "pd.set_option('display.max_rows', None)\n",
    "pd.set_option('display.max_columns', None)\n",
    "pd.set_option('display.width', None)\n",
    "pd.set_option('display.max_colwidth', None)\n",
    "\n",
    "final_result"
   ]
  },
  {
   "cell_type": "code",
   "execution_count": 69,
   "metadata": {},
   "outputs": [
    {
     "data": {
      "text/html": [
       "<div>\n",
       "<style scoped>\n",
       "    .dataframe tbody tr th:only-of-type {\n",
       "        vertical-align: middle;\n",
       "    }\n",
       "\n",
       "    .dataframe tbody tr th {\n",
       "        vertical-align: top;\n",
       "    }\n",
       "\n",
       "    .dataframe thead th {\n",
       "        text-align: right;\n",
       "    }\n",
       "</style>\n",
       "<table border=\"1\" class=\"dataframe\">\n",
       "  <thead>\n",
       "    <tr style=\"text-align: right;\">\n",
       "      <th></th>\n",
       "      <th>Article</th>\n",
       "      <th>BiasIndicator</th>\n",
       "      <th>Incredibility%</th>\n",
       "      <th>Polarity%</th>\n",
       "      <th>Subjectivity%</th>\n",
       "    </tr>\n",
       "  </thead>\n",
       "  <tbody>\n",
       "    <tr>\n",
       "      <th>0</th>\n",
       "      <td>https://www.breitbart.com/2020-election/2020/10/03/as-trump-battles-covid-blm-antifa-disrupt-trump-rally-in-beverly-hills/</td>\n",
       "      <td>31.6751</td>\n",
       "      <td>54.7524</td>\n",
       "      <td>-1.51352</td>\n",
       "      <td>46.7612</td>\n",
       "    </tr>\n",
       "  </tbody>\n",
       "</table>\n",
       "</div>"
      ],
      "text/plain": [
       "                                                                                                                      Article  \\\n",
       "0  https://www.breitbart.com/2020-election/2020/10/03/as-trump-battles-covid-blm-antifa-disrupt-trump-rally-in-beverly-hills/   \n",
       "\n",
       "  BiasIndicator Incredibility% Polarity% Subjectivity%  \n",
       "0       31.6751        54.7524  -1.51352       46.7612  "
      ]
     },
     "execution_count": 69,
     "metadata": {},
     "output_type": "execute_result"
    }
   ],
   "source": [
    "result\n",
    "final_result = result\n",
    "final_result"
   ]
  },
  {
   "cell_type": "code",
   "execution_count": null,
   "metadata": {},
   "outputs": [],
   "source": [
    "Breitbart\n",
    "BBC\n",
    "Metro\n",
    "Fox News\n",
    "Wall St Journal\n",
    "NBC News\n"
   ]
  },
  {
   "cell_type": "code",
   "execution_count": 74,
   "metadata": {},
   "outputs": [
    {
     "data": {
      "text/html": [
       "<div>\n",
       "<style scoped>\n",
       "    .dataframe tbody tr th:only-of-type {\n",
       "        vertical-align: middle;\n",
       "    }\n",
       "\n",
       "    .dataframe tbody tr th {\n",
       "        vertical-align: top;\n",
       "    }\n",
       "\n",
       "    .dataframe thead th {\n",
       "        text-align: right;\n",
       "    }\n",
       "</style>\n",
       "<table border=\"1\" class=\"dataframe\">\n",
       "  <thead>\n",
       "    <tr style=\"text-align: right;\">\n",
       "      <th></th>\n",
       "      <th>Article</th>\n",
       "      <th>BiasIndicator</th>\n",
       "      <th>Incredibility%</th>\n",
       "      <th>Polarity%</th>\n",
       "      <th>Subjectivity%</th>\n",
       "    </tr>\n",
       "  </thead>\n",
       "  <tbody>\n",
       "    <tr>\n",
       "      <th>0</th>\n",
       "      <td>https://www.bbc.co.uk/news/uk-54234084</td>\n",
       "      <td>45</td>\n",
       "      <td>3.7037</td>\n",
       "      <td>40.7407</td>\n",
       "      <td>55.5556</td>\n",
       "    </tr>\n",
       "  </tbody>\n",
       "</table>\n",
       "</div>"
      ],
      "text/plain": [
       "                                  Article BiasIndicator Incredibility%  \\\n",
       "0  https://www.bbc.co.uk/news/uk-54234084            45         3.7037   \n",
       "\n",
       "  Polarity% Subjectivity%  \n",
       "0   40.7407       55.5556  "
      ]
     },
     "execution_count": 74,
     "metadata": {},
     "output_type": "execute_result"
    }
   ],
   "source": [
    "result"
   ]
  },
  {
   "cell_type": "code",
   "execution_count": 75,
   "metadata": {},
   "outputs": [
    {
     "data": {
      "text/plain": [
       "0    45\n",
       "dtype: object"
      ]
     },
     "execution_count": 75,
     "metadata": {},
     "output_type": "execute_result"
    }
   ],
   "source": [
    "BiasIndicator"
   ]
  },
  {
   "cell_type": "code",
   "execution_count": 76,
   "metadata": {},
   "outputs": [
    {
     "data": {
      "text/plain": [
       "0    5\n",
       "Name: CredibilityScore, dtype: object"
      ]
     },
     "execution_count": 76,
     "metadata": {},
     "output_type": "execute_result"
    }
   ],
   "source": [
    "IncredibilityPercent \n"
   ]
  },
  {
   "cell_type": "code",
   "execution_count": 77,
   "metadata": {},
   "outputs": [
    {
     "data": {
      "text/plain": [
       "0    55.0\n",
       "Name: Polarity, dtype: float64"
      ]
     },
     "execution_count": 77,
     "metadata": {},
     "output_type": "execute_result"
    }
   ],
   "source": [
    "abs(PolarityPercent) "
   ]
  },
  {
   "cell_type": "code",
   "execution_count": 78,
   "metadata": {},
   "outputs": [
    {
     "data": {
      "text/plain": [
       "0    75.0\n",
       "Name: Subjectivity, dtype: float64"
      ]
     },
     "execution_count": 78,
     "metadata": {},
     "output_type": "execute_result"
    }
   ],
   "source": [
    "SubjectivityPercent"
   ]
  },
  {
   "cell_type": "code",
   "execution_count": null,
   "metadata": {},
   "outputs": [],
   "source": []
  }
 ],
 "metadata": {
  "kernelspec": {
   "display_name": "Python 3",
   "language": "python",
   "name": "python3"
  },
  "language_info": {
   "codemirror_mode": {
    "name": "ipython",
    "version": 3
   },
   "file_extension": ".py",
   "mimetype": "text/x-python",
   "name": "python",
   "nbconvert_exporter": "python",
   "pygments_lexer": "ipython3",
   "version": "3.8.5"
  }
 },
 "nbformat": 4,
 "nbformat_minor": 4
}
