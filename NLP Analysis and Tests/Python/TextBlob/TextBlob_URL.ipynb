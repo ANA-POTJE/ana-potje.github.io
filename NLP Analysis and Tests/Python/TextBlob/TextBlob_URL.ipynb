{
 "cells": [
  {
   "cell_type": "code",
   "execution_count": 1,
   "metadata": {},
   "outputs": [],
   "source": [
    "import requests\n",
    "url = \"http://www.gutenberg.org/files/1024/1024.txt\"\n",
    "raw = requests.get(url).text"
   ]
  },
  {
   "cell_type": "code",
   "execution_count": 2,
   "metadata": {},
   "outputs": [
    {
     "name": "stdout",
     "output_type": "stream",
     "text": [
      "799376\n",
      "IN THE MARQUESAS.\r\n",
      "\r\n",
      "It was about three o'clock of a winter's afternoon in Tai-o-hae, the\r\n",
      "French capital and port of entry of the Marquesas Islands. The trades\r\n",
      "blew strong and squally; the surf roared loud on the shingle beach; and\r\n",
      "the fifty-ton schooner of war, that carries the flag and influence of\r\n",
      "France about the islands of the cannibal group, rolled at her moorings\r\n",
      "under Prison Hill. The clouds hung low and black on the surrounding\r\n",
      "amphitheatre of mountains; rain had fallen earlier in the day, real\r\n",
      "tropic rain, a waterspout for violence; and the green and gloomy brow of\r\n",
      "the mountain was still seamed with many silver threads of torrent.\r\n",
      "\r\n",
      "\n"
     ]
    }
   ],
   "source": [
    "#raw\n",
    "#print(raw[:1000])\n",
    "print(len(raw))\n",
    "print(raw[721:1381])\n",
    "text = raw[721:1381]"
   ]
  },
  {
   "cell_type": "code",
   "execution_count": 3,
   "metadata": {},
   "outputs": [
    {
     "data": {
      "text/plain": [
       "\"IN THE MARQUESAS.\\r\\n\\r\\nIt was about three o'clock of a winter's afternoon in Tai-o-hae, the\\r\\nFrench capital and port of entry of the Marquesas Islands. The trades\\r\\nblew strong and squally; the surf roared loud on the shingle beach; and\\r\\nthe fifty-ton schooner of war, that carries the flag and influence of\\r\\nFrance about the islands of the cannibal group, rolled at her moorings\\r\\nunder Prison Hill. The clouds hung low and black on the surrounding\\r\\namphitheatre of mountains; rain had fallen earlier in the day, real\\r\\ntropic rain, a waterspout for violence; and the green and gloomy brow of\\r\\nthe mountain was still seamed with many silver threads of torrent.\\r\\n\\r\\n\""
      ]
     },
     "execution_count": 3,
     "metadata": {},
     "output_type": "execute_result"
    }
   ],
   "source": [
    "text"
   ]
  },
  {
   "cell_type": "code",
   "execution_count": 5,
   "metadata": {},
   "outputs": [
    {
     "data": {
      "text/plain": [
       "Sentiment(polarity=0.0962962962962963, subjectivity=0.4296296296296296)"
      ]
     },
     "execution_count": 5,
     "metadata": {},
     "output_type": "execute_result"
    }
   ],
   "source": [
    "from textblob import TextBlob\n",
    "\n",
    "testimonial = TextBlob(text)\n",
    "testimonial.sentiment"
   ]
  },
  {
   "cell_type": "code",
   "execution_count": 6,
   "metadata": {},
   "outputs": [
    {
     "data": {
      "text/plain": [
       "Sentiment(polarity=0.0796418700825464, subjectivity=0.48049184371335824)"
      ]
     },
     "execution_count": 6,
     "metadata": {},
     "output_type": "execute_result"
    }
   ],
   "source": [
    "testimonial = TextBlob(raw)\n",
    "testimonial.sentiment"
   ]
  },
  {
   "cell_type": "code",
   "execution_count": null,
   "metadata": {},
   "outputs": [],
   "source": []
  },
  {
   "cell_type": "code",
   "execution_count": null,
   "metadata": {},
   "outputs": [],
   "source": []
  },
  {
   "cell_type": "code",
   "execution_count": null,
   "metadata": {},
   "outputs": [],
   "source": []
  },
  {
   "cell_type": "code",
   "execution_count": null,
   "metadata": {},
   "outputs": [],
   "source": []
  }
 ],
 "metadata": {
  "kernelspec": {
   "display_name": "Python 3",
   "language": "python",
   "name": "python3"
  },
  "language_info": {
   "codemirror_mode": {
    "name": "ipython",
    "version": 3
   },
   "file_extension": ".py",
   "mimetype": "text/x-python",
   "name": "python",
   "nbconvert_exporter": "python",
   "pygments_lexer": "ipython3",
   "version": "3.6.2"
  }
 },
 "nbformat": 4,
 "nbformat_minor": 2
}
