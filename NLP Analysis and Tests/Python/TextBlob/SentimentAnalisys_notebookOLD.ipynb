{
 "cells": [
  {
   "cell_type": "code",
   "execution_count": 1,
   "metadata": {},
   "outputs": [],
   "source": [
    "### https://towardsdatascience.com/my-absolute-go-to-for-sentiment-analysis-textblob-3ac3a11d524\n",
    "###\n",
    "### Subjectivity quantifies the amount of personal opinion and factual information\n",
    "### contained in the text. The higher subjectivity means that the text contains\n",
    "### personal opinion rather than factual information.\n",
    "\n",
    "from textblob import TextBlob"
   ]
  },
  {
   "cell_type": "code",
   "execution_count": 2,
   "metadata": {},
   "outputs": [
    {
     "data": {
      "text/plain": [
       "Sentiment(polarity=0.0, subjectivity=0.1)"
      ]
     },
     "execution_count": 2,
     "metadata": {},
     "output_type": "execute_result"
    }
   ],
   "source": [
    "text = TextBlob(\"This was a helpful example but I would prefer another one.\")\n",
    "\n",
    "text = TextBlob(\"At the moment we think the epidemic is doubling every seven days. If, and that\\'s quite a big if, but ...\")\n",
    "\n",
    "text.sentiment"
   ]
  },
  {
   "cell_type": "code",
   "execution_count": 3,
   "metadata": {},
   "outputs": [
    {
     "data": {
      "text/plain": [
       "Sentiment(polarity=-1.0, subjectivity=1.0)"
      ]
     },
     "execution_count": 3,
     "metadata": {},
     "output_type": "execute_result"
    }
   ],
   "source": [
    "text = TextBlob(\"This a horrible day.\")\n",
    "text.sentiment#.polarity"
   ]
  },
  {
   "cell_type": "code",
   "execution_count": 4,
   "metadata": {},
   "outputs": [
    {
     "data": {
      "text/plain": [
       "textblob.en.sentiments.Sentiment"
      ]
     },
     "execution_count": 4,
     "metadata": {},
     "output_type": "execute_result"
    }
   ],
   "source": [
    "type(text.sentiment)"
   ]
  },
  {
   "cell_type": "code",
   "execution_count": null,
   "metadata": {},
   "outputs": [],
   "source": []
  },
  {
   "cell_type": "code",
   "execution_count": 17,
   "metadata": {},
   "outputs": [
    {
     "name": "stdout",
     "output_type": "stream",
     "text": [
      "Url is valid\n"
     ]
    }
   ],
   "source": [
    "## pip install validators\n",
    "import validators\n",
    "valid=validators.url('https://bbc.co.uk')\n",
    "if valid==True:\n",
    "    print(\"Url is valid\")\n",
    "else:\n",
    "    print(\"Invalid url\")"
   ]
  },
  {
   "cell_type": "code",
   "execution_count": null,
   "metadata": {},
   "outputs": [],
   "source": []
  },
  {
   "cell_type": "code",
   "execution_count": 2,
   "metadata": {},
   "outputs": [],
   "source": [
    "def validateURL(url):\n",
    "    import validators\n",
    "    valid = validators.url(url)\n",
    "    if valid==True:\n",
    "        return(1)\n",
    "    else:\n",
    "        return(-1)\n",
    "\n",
    "def getText(url):\n",
    "    from newspaper import Article\n",
    "    ### Getting the Text\n",
    "    article = Article(url)\n",
    "    article.download()\n",
    "    article.parse()\n",
    "    text = article.text\n",
    "    ### Removing unwanted formatting\n",
    "    text = text.replace(\"\\n\\n\", \"\")\n",
    "    text = text.replace(\"Image copyright Getty Images \", \"\")\n",
    "    text = text.replace(\"Image copyright Getty Images/Reuters\", \"\")\n",
    "    text = text.replace(\"Image caption \", \"\")\n",
    "    text = text.replace(\"Media playback is unsupported on your device \", \"\")\n",
    "    text = text.replace(\"Media caption \", \"\")\n",
    "    return(text);    \n",
    "\n",
    "def sentimentAnalysis(url):\n",
    "    from textblob import TextBlob    \n",
    "    text = getText(url)\n",
    "    ### analysing the text \n",
    "    testimonial = TextBlob(text)\n",
    "    ## use the output as \"analysed_txt.sentiment\" or \"analysed_txt.sentences\"\n",
    "    return(testimonial); \n",
    " \n",
    "def getArticle(url):   \n",
    "#news_article = getArticle(url)\n",
    "#IMAGE' = news_article.top_image\n",
    "#KEYWORDS'= news_article.keywords\n",
    "#SUMMARY' = news_article.summary\n",
    "\n",
    "    from newspaper import Article\n",
    "    ## use the output to get features such as \"article.top_image\", \"article.keywords\", \"article.summary\"    \n",
    "    article = Article(url)\n",
    "    article.download()\n",
    "    article.parse()\n",
    "    article.nlp()\n",
    "    return(article)"
   ]
  },
  {
   "cell_type": "code",
   "execution_count": 3,
   "metadata": {},
   "outputs": [
    {
     "data": {
      "text/plain": [
       "1"
      ]
     },
     "execution_count": 3,
     "metadata": {},
     "output_type": "execute_result"
    }
   ],
   "source": [
    "#url = \"https://metro.co.uk/2020/09/21/ftse-100-suffers-worst-day-since-mid-june-as-shares-tumble-over-lockdown-fears-13304315/\"\n",
    "#url = \"https://www.thesun.co.uk/news/12710493/jeremy-clarkson-task-force-fix-a-bridge/\"\n",
    "#url = \"https://www.bbc.co.uk/news/uk-54234084\"\n",
    "#url = \"https://www.techpackmobileandgadgetcover.co.uk/auth\"\n",
    "url = \"https://www.thesun.co.uk/news/12771727/battle-against-covid-lorraine-kelly/\"\n",
    "#url='xxx'\n",
    "\n",
    "validateURL(url) ## 1 = valid, -1 = invalid"
   ]
  },
  {
   "cell_type": "code",
   "execution_count": 4,
   "metadata": {},
   "outputs": [
    {
     "data": {
      "text/plain": [
       "\"WHEN I was training for the four marathons that I somehow managed to \\xadfinish, I was given some terrific advice.I was told not to think about the 26.2 miles as one big scary lump, but to cut things up into manageable chunks, to take each mile as it comes and, when I was almost running on empty, to just think about getting to the next lamp-post.⚠️ Read our coronavirus live blog for the latest news & updates6 Our battle against Covid is long - but we will get there as a community Credit: AFP or licensorsIt sounds very simplistic but it worked, and I think it’s a message that could get us through life as we know it today. We are all weary of this vile virus, and many of us are anxious, frightened and overwhelmed.I’ve had my share of waking up at 3am with my stomach churning and feeling as though a very large elephant is sitting on my chest.It’s to be expected with all the confusion, chaos and lack of clarity, but if we just take baby steps then it will be a whole lot easier.Listening to experts solemnly tell us that things won’t be back to normal in six months or even a year is tough to hear, extremely daunting and difficult to come to terms with right now.I don’t know about you, but I feel as though I’m at the bottom of a bloody big mountain without the right equipment to get to the top.Instead of panicking, though, I intend to concentrate on getting through all of this taking a week, or even a day, at a time.I think it’s really important to try to have something to look forward to, even if it’s just watching your favourite TV show, buying a newspaper or magazine or enjoying a video call with friends. As you all know, I’ve found \\xadtaking my dog Angus out for a walk makes me feel much less stressed.It’s sometimes hard to force myself out of the door, but once in the fresh air my spirits are always lifted.It’s also vital not to bottle everything up. If you are feeling desperate, please talk to your friends and family or someone else you trust.6 We all need to keep healthy, both mentally and physically, to get through this Credit: INSTAGRAM/LORRAINE KELLYYou aren’t alone in feeling tearful and confused. We have all been there. But trying to soldier on isn’t a sign of strength. It’s actually very brave to ask for help.This is a really crucial time and we all have to take responsibility for our own safety, protect ourselves and family and friends but also look out for everyone else.We will only get through this if we join forces and start acting like a proper community. We need to use our common sense and knuckle down to the new laws, no matter how tough they may be.Personally, I could weep for vulnerable elderly people in care homes who can’t see their families, for idealistic university students who are being told to stay in their tiny rooms when there’s a big wide world out there to explore and new friends to be made, and for anyone in danger of losing their job.And, of course, there are those still battling this illness, and families mourning the loss of those who have died.The only way we can ever hope to get our old way of life back is to make a massive effort right now, and try to stop this bastard of a virus from spreading until science can save us with a vaccine.We need to keep healthy, both mentally and physically, cut down on the booze and comfort-eating and concentrate on just getting through the next 24 hours.We will get there together.Gene and co still Rain supremeCAN I heartily recommend, to anyone in need of a pick-me-up, watching the classic 1952 musical Singin’ In The Rain.It’s utterly life-enhancing, with hilarious dialogue, incredible song-and-dance numbers and the glorious, rubber-faced Donald O’Connor doing a gravity-defying rendition of Make ’Em Laugh without the use of special effects.6 Singin’ In The Rain is the ultimate pick-me-up - I thoroughly recommend a watch Credit: MGMGene Kelly, pictured, and Cyd Charisse have never been more sexy and sultry together and Debbie Reynolds was the ultimate, fresh-faced all-American sweetheart.My favourite character of them all was the baddie Lina Lamont, who has the face of an angel and the voice of a screeching banshee. The movie just wouldn’t have been the same without Jean Hagen’s brilliant portrayal of this conniving but basically rather dim silent-screen actress.Even if you have seen this film before, I guarantee you will love it all over again and it’s as fresh and relevant today as it was 68 years ago.It’s make your mind up time for Harry and MeghanI SALUTE Harry and Meghan for urging people in the US to get out and vote, especially as they will be listened to by the younger electorate.They didn’t actually wear “Vote Biden” badges and urge citizens to put their cross in the box marked Democrat but they may as well have done.6 Harry and Meghan can't have one foot in and one foot out of the Royal FamilyBy sticking their necks out, however, it does leave the couple open to criticism.Inevitably, a huffy Donald Trump had a pop at Meghan but they will also have upset the Queen, who has tiptoed brilliantly through a field of political landmines during her 68 years on the throne and never put a foot wrong. I think Her Maj will take rather a dim view of her grandson’s grandstanding alongside her granddaughter-in-law.It’s time Harry and Meghan stopped playing the Hokey Cokey, with one foot out and one foot in the Royal Family, and severed official ties altogether.That means no longer having the titles of Duke and Duchess, being under any kind of obligation to the Crown or having to abide by the rules when it comes to talking about politics or accepting commercial deals. Of course, the Catch 22 here is that much of their cachet is built on those royal titles and any future lucrative deals could take a big hit.As plain old Harry and Meghan Windsor, they would be free to say what they want but would everyone still want to listen?They would also obviously still be very much part of the family, but just not members of the ROYAL family business.They can’t have it both ways.The Sun is top of the poppiesTHE Sun’s Poppy Appeal campaign, to encourage online donations while Covid-19 stops veterans and elderly volunteers having to go out to fundraise, is such a brilliant idea.And how wonderful to have the seal of approval of Captain Sir Tom Moore.6 Captain Tom launched The Sun's campaign to save the Poppy Appeal as vulnerable sellers can't take part this year Credit: News Group Newspapers LtdThis splendid man has become a symbol of hope in these tough times and, as an ex-serviceman, knows what a difference The Royal British Legion makes to the lives of our veterans.Covid restrictions mean many of the 40,000 indomitable volunteers – a lot of them veterans – cannot go out selling poppies because they are vulnerable to the virus.I know, from years of experience of working with them, that this has been a huge blow and could have a massive impact on fundraising.That’s why The Sun’s campaign is so very important.The men and women of our Armed Forces have made so many sacrifices over the years in conflicts including World War Two, Korea, the Falklands, Iraq and Afghanistan.Veterans and their families need our help more than ever and there are many ways you can make sure you wear your poppy with pride.You can simply go online and make a donation, visiting the online poppy shop for a range of themed products, and can also still buy a poppy from Sainsbury’s, Tesco, Asda, Aldi and Morrisons.I know times are tough, but whatever you can spare really will make all the difference.Sir Nick is man for jobDO you remember back in April when an Army general appeared at the now-scrapped daily 5pm coronavirus briefing?To be honest, when I saw the Chief of Defence Staff, General Sir Nick Carter, in uniform at the podium I heaved a sigh of relief.6 I'd rather have General Sir Nick Carter in charge of the Covid battle than Boris Johnson Credit: Getty - ContributorAt last the grown-ups were in charge and we might be getting somewhere.But we never saw Sir Nick there again.I reckon it was because he did far too good a job.The Government ministers were probably worried he would make them look even more incompetent if he were to appear on a regular basis.We know the Army worked hard behind the scenes to help build and equip the Nightingale hospitals across the country – which thankfully were not needed – and we are told they are on standby to help us get through the next few months.I, for one, whole-heartedly welcome the Army’s involvement and just wish at the start they had been given the job of distributing PPE, sorting out track-and-trace and making sure our testing centres were fit for purpose.I’d rather have Sir Nick in charge, exuding no-nonsense confidence, than quivering, out-of-his-depth Boris Johnson and his sorry gang of incompetents who couldn’t run a p***-up in the proverbial.Binge DeckBEST news of the week is that a new series of TV’s Below Deck has been given the green light.This reality show about life on the ocean continues to be my lockdown guilty pleasure.Most read in Opinion Comment ALLY ROSS Only Ant and Dec can stop Britain's Got Talent being rant and dreck Comment THE SUN SAYS Boris' 'Three Tiers' system is hardly the sensible middle-ground he thinks Comment JEREMY CLARKSON It's time Sturgeon forgave the English, I've even made up with Piers Morgan Comment TREVOR KAVANAGH Britain's doomed to bankruptcy with 'leaders' who have fear in their eyes Comment KARREN BRADY How could anyone cash in on Covid with vile 'scams' to grab taxpayer money Comment THE SUN SAYS Govt's making job-destroying lockdown decisions off the back of weak evidenceThe sheer escapism of observing spoilt rich people making clowns of themselves aboard breathtakingly expensive charter yachts, and the crew bickering, getting drunk and having sex with one another, is one of life’s joys.And don’t worry if you are late to the party.You can download Below Deck on Netflix then binge on the shows Below Deck Mediterranean and Below Deck Sailing Yacht on streaming service Hayu.Below Deck Med's Malia White appears to split from boyfriend Tom Checketts and accuse him of cheating in cryptic postGOT a story? RING The Sun on 0207 782 4104 or WHATSAPP on 07423720250 or EMAIL exclusive@the-sun.co.uk\""
      ]
     },
     "execution_count": 4,
     "metadata": {},
     "output_type": "execute_result"
    }
   ],
   "source": [
    "getText(url)"
   ]
  },
  {
   "cell_type": "code",
   "execution_count": 5,
   "metadata": {},
   "outputs": [
    {
     "data": {
      "text/plain": [
       "Sentiment(polarity=0.081352676859006, subjectivity=0.540270016551662)"
      ]
     },
     "execution_count": 5,
     "metadata": {},
     "output_type": "execute_result"
    }
   ],
   "source": [
    "analysed_text = sentimentAnalysis(url)\n",
    "analysed_text.sentiment"
   ]
  },
  {
   "cell_type": "code",
   "execution_count": 6,
   "metadata": {},
   "outputs": [
    {
     "name": "stdout",
     "output_type": "stream",
     "text": [
      "Sentiment(polarity=-0.07373737373737374, subjectivity=0.5611111111111112)\n",
      "WHEN I was training for the four marathons that I somehow managed to ­finish, I was given some terrific advice.I was told not to think about the 26.2 miles as one big scary lump, but to cut things up into manageable chunks, to take each mile as it comes and, when I was almost running on empty, to just think about getting to the next lamp-post.⚠️ Read our coronavirus live blog for the latest news & updates6 Our battle against Covid is long - but we will get there as a community Credit: AFP or licensorsIt sounds very simplistic but it worked, and I think it’s a message that could get us through life as we know it today.\n",
      "Sentiment(polarity=-0.0037581699346405225, subjectivity=0.64187675070028)\n",
      "We are all weary of this vile virus, and many of us are anxious, frightened and overwhelmed.I’ve had my share of waking up at 3am with my stomach churning and feeling as though a very large elephant is sitting on my chest.It’s to be expected with all the confusion, chaos and lack of clarity, but if we just take baby steps then it will be a whole lot easier.Listening to experts solemnly tell us that things won’t be back to normal in six months or even a year is tough to hear, extremely daunting and difficult to come to terms with right now.I don’t know about you, but I feel as though I’m at the bottom of a bloody big mountain without the right equipment to get to the top.Instead of panicking, though, I intend to concentrate on getting through all of this taking a week, or even a day, at a time.I think it’s really important to try to have something to look forward to, even if it’s just watching your favourite TV show, buying a newspaper or magazine or enjoying a video call with friends.\n",
      "Sentiment(polarity=-0.014583333333333344, subjectivity=0.3770833333333333)\n",
      "As you all know, I’ve found ­taking my dog Angus out for a walk makes me feel much less stressed.It’s sometimes hard to force myself out of the door, but once in the fresh air my spirits are always lifted.It’s also vital not to bottle everything up.\n",
      "Sentiment(polarity=-0.12, subjectivity=0.5085714285714286)\n",
      "If you are feeling desperate, please talk to your friends and family or someone else you trust.6 We all need to keep healthy, both mentally and physically, to get through this Credit: INSTAGRAM/LORRAINE KELLYYou aren’t alone in feeling tearful and confused.\n",
      "Sentiment(polarity=0.0, subjectivity=0.0)\n",
      "We have all been there.\n",
      "Sentiment(polarity=0.0, subjectivity=0.0)\n",
      "But trying to soldier on isn’t a sign of strength.\n",
      "Sentiment(polarity=0.26666666666666666, subjectivity=0.6833333333333332)\n",
      "It’s actually very brave to ask for help.This is a really crucial time and we all have to take responsibility for our own safety, protect ourselves and family and friends but also look out for everyone else.We will only get through this if we join forces and start acting like a proper community.\n",
      "Sentiment(polarity=0.08940836940836941, subjectivity=0.5045622895622895)\n",
      "We need to use our common sense and knuckle down to the new laws, no matter how tough they may be.Personally, I could weep for vulnerable elderly people in care homes who can’t see their families, for idealistic university students who are being told to stay in their tiny rooms when there’s a big wide world out there to explore and new friends to be made, and for anyone in danger of losing their job.And, of course, there are those still battling this illness, and families mourning the loss of those who have died.The only way we can ever hope to get our old way of life back is to make a massive effort right now, and try to stop this bastard of a virus from spreading until science can save us with a vaccine.We need to keep healthy, both mentally and physically, cut down on the booze and comfort-eating and concentrate on just getting through the next 24 hours.We will get there together.Gene and co still Rain supremeCAN I heartily recommend, to anyone in need of a pick-me-up, watching the classic 1952 musical Singin’ In The Rain.It’s utterly life-enhancing, with hilarious dialogue, incredible song-and-dance numbers and the glorious, rubber-faced Donald O’Connor doing a gravity-defying rendition of Make ’Em Laugh without the use of special effects.6 Singin’ In The Rain is the ultimate pick-me-up - I thoroughly recommend a watch Credit: MGMGene Kelly, pictured, and Cyd Charisse have never been more sexy and sultry together and Debbie Reynolds was the ultimate, fresh-faced all-American sweetheart.My favourite character of them all was the baddie Lina Lamont, who has the face of an angel and the voice of a screeching banshee.\n",
      "Sentiment(polarity=0.18000000000000002, subjectivity=0.5216666666666666)\n",
      "The movie just wouldn’t have been the same without Jean Hagen’s brilliant portrayal of this conniving but basically rather dim silent-screen actress.Even if you have seen this film before, I guarantee you will love it all over again and it’s as fresh and relevant today as it was 68 years ago.It’s make your mind up time for Harry and MeghanI SALUTE Harry and Meghan for urging people in the US to get out and vote, especially as they will be listened to by the younger electorate.They didn’t actually wear “Vote Biden” badges and urge citizens to put their cross in the box marked Democrat but they may as well have done.6 Harry and Meghan can't have one foot in and one foot out of the Royal FamilyBy sticking their necks out, however, it does leave the couple open to criticism.Inevitably, a huffy Donald Trump had a pop at Meghan but they will also have upset the Queen, who has tiptoed brilliantly through a field of political landmines during her 68 years on the throne and never put a foot wrong.\n",
      "Sentiment(polarity=0.2333333333333333, subjectivity=0.4666666666666666)\n",
      "I think Her Maj will take rather a dim view of her grandson’s grandstanding alongside her granddaughter-in-law.It’s time Harry and Meghan stopped playing the Hokey Cokey, with one foot out and one foot in the Royal Family, and severed official ties altogether.That means no longer having the titles of Duke and Duchess, being under any kind of obligation to the Crown or having to abide by the rules when it comes to talking about politics or accepting commercial deals.\n",
      "Sentiment(polarity=0.11196125798804368, subjectivity=0.5149589051821195)\n",
      "Of course, the Catch 22 here is that much of their cachet is built on those royal titles and any future lucrative deals could take a big hit.As plain old Harry and Meghan Windsor, they would be free to say what they want but would everyone still want to listen?They would also obviously still be very much part of the family, but just not members of the ROYAL family business.They can’t have it both ways.The Sun is top of the poppiesTHE Sun’s Poppy Appeal campaign, to encourage online donations while Covid-19 stops veterans and elderly volunteers having to go out to fundraise, is such a brilliant idea.And how wonderful to have the seal of approval of Captain Sir Tom Moore.6 Captain Tom launched The Sun's campaign to save the Poppy Appeal as vulnerable sellers can't take part this year Credit: News Group Newspapers LtdThis splendid man has become a symbol of hope in these tough times and, as an ex-serviceman, knows what a difference The Royal British Legion makes to the lives of our veterans.Covid restrictions mean many of the 40,000 indomitable volunteers – a lot of them veterans – cannot go out selling poppies because they are vulnerable to the virus.I know, from years of experience of working with them, that this has been a huge blow and could have a massive impact on fundraising.That’s why The Sun’s campaign is so very important.The men and women of our Armed Forces have made so many sacrifices over the years in conflicts including World War Two, Korea, the Falklands, Iraq and Afghanistan.Veterans and their families need our help more than ever and there are many ways you can make sure you wear your poppy with pride.You can simply go online and make a donation, visiting the online poppy shop for a range of themed products, and can also still buy a poppy from Sainsbury’s, Tesco, Asda, Aldi and Morrisons.I know times are tough, but whatever you can spare really will make all the difference.Sir Nick is man for jobDO you remember back in April when an Army general appeared at the now-scrapped daily 5pm coronavirus briefing?To be honest, when I saw the Chief of Defence Staff, General Sir Nick Carter, in uniform at the podium I heaved a sigh of relief.6 I'd rather have General Sir Nick Carter in charge of the Covid battle than Boris Johnson Credit: Getty - ContributorAt last the grown-ups were in charge and we might be getting somewhere.But we never saw Sir Nick there again.I reckon it was because he did far too good a job.The Government ministers were probably worried he would make them look even more incompetent if he were to appear on a regular basis.We know the Army worked hard behind the scenes to help build and equip the Nightingale hospitals across the country – which thankfully were not needed – and we are told they are on standby to help us get through the next few months.I, for one, whole-heartedly welcome the Army’s involvement and just wish at the start they had been given the job of distributing PPE, sorting out track-and-trace and making sure our testing centres were fit for purpose.I’d rather have Sir Nick in charge, exuding no-nonsense confidence, than quivering, out-of-his-depth Boris Johnson and his sorry gang of incompetents who couldn’t run a p***-up in the proverbial.Binge DeckBEST news of the week is that a new series of TV’s Below Deck has been given the green light.This reality show about life on the ocean continues to be my lockdown guilty pleasure.Most read in Opinion Comment JANE MOORE Let's try Sweden's approach — shield vulnerable & let the rest live our lives Comment THE SUN SAYS How can we blame people for not following Covid rules if PM doesn’t get them?\n",
      "Sentiment(polarity=0.17321428571428574, subjectivity=0.6071428571428571)\n",
      "Comment ALLY ROSS To stop Great British Bake Off going stale, add a little Matt Lucas-aid Comment TREVOR KAVANAGH BBC treats Covid like a Great Plague - its coverage is suspiciously anti-PM LORRAINE KELLY Criticising Charlie Dimmock for putting on weight is horribly unfair... she still looks great Comment TONY PARSONS What can Harry be thinking?\n",
      "Sentiment(polarity=-0.15416666666666667, subjectivity=0.6333333333333334)\n",
      "When our royals boss Yanks, we get a revolutionThe sheer escapism of observing spoilt rich people making clowns of themselves aboard breathtakingly expensive charter yachts, and the crew bickering, getting drunk and having sex with one another, is one of life’s joys.And don’t worry if you are late to the party.You can download Below Deck on Netflix then binge on the shows Below Deck Mediterranean and Below Deck Sailing Yacht on streaming service Hayu.Below Deck Med's Malia White appears to split from boyfriend Tom Checketts and accuse him of cheating in cryptic postGOT a story?\n",
      "Sentiment(polarity=0.0, subjectivity=0.0)\n",
      "RING The Sun on 0207 782 4104 or WHATSAPP on 07423720250 or EMAIL exclusive@the-sun.co.uk\n"
     ]
    }
   ],
   "source": [
    "for sentence in analysed_text.sentences:\n",
    "    print(sentence.sentiment)#.polarity)\n",
    "    print(sentence)"
   ]
  },
  {
   "cell_type": "code",
   "execution_count": null,
   "metadata": {},
   "outputs": [],
   "source": []
  },
  {
   "cell_type": "code",
   "execution_count": 27,
   "metadata": {},
   "outputs": [
    {
     "name": "stdout",
     "output_type": "stream",
     "text": [
      "https://www.thetimes.co.uk/imageserver/image/%2Fmethode%2Ftimes%2Fprod%2Fweb%2Fbin%2F8775f498-02f4-11eb-bce8-b17824147865.jpg?crop=1600%2C900%2C0%2C0&resize=685\n",
      "['2016', 'victoryms', 'clinton', 'biden', 'trumps', 'polls', 'happens', 'victory', 'campaign', 'voters', 'wrong', 'election', 'tool']\n",
      "Stunned by Donald Trump’s victory over Hillary Clinton in 2016, some American voters swore off polls for ever, believing that surveys of the public during the campaign had failed to alert them to the plausibility of a Republican victory.\n",
      "Ms Clinton enjoyed what appeared to be a safe lead in the polls throughout the 2016 campaign, and polling data this year paints a similar picture, with the Democratic candidate — this time Joe Biden — comfortably ahead.\n",
      "But if you cannot rely on the polls to forecast the result, what could happen on November 3?\n",
      "The Times has produced a tool to explore eight potential outcomes, from a Biden landslide to a repeat of 2016.\n",
      "Select a results-day scenario to see how the political map\n"
     ]
    }
   ],
   "source": [
    "url = \"https://www.thetimes.co.uk/edition/news/what-happens-if-the-us-election-polls-are-wrong-svwztjvvh\"\n",
    "news_article = getArticle(url)\n",
    "\n",
    "#print('IMAGE')\n",
    "print(news_article.top_image) \n",
    "#### https://www.thetimes.co.uk/imageserver/image/%2Fmethode%2Ftimes%2Fprod%2Fweb%2Fbin%2F8775f498-02f4-11eb-bce8-b17824147865.jpg?crop=1600%2C900%2C0%2C0&resize=685\n",
    "\n",
    "#print('KEYWORDS')\n",
    "print(news_article.keywords) \n",
    "#### ['2016', 'victoryms', 'clinton', 'biden', 'trumps', 'polls', 'happens', 'victory', 'campaign', 'voters', 'wrong', 'election', 'tool']\n",
    "\n",
    "#print('SUMMARY')\n",
    "print(news_article.summary)\n",
    "\n",
    "#Stunned by Donald Trump’s victory over Hillary Clinton in 2016, some American voters swore off polls for ever, believing that surveys of the public during the campaign had failed to alert them to the plausibility of a Republican victory.\n",
    "#Ms Clinton enjoyed what appeared to be a safe lead in the polls throughout the 2016 campaign, and polling data this year paints a similar picture, with the Democratic candidate — this time Joe Biden — comfortably ahead.\n",
    "#But if you cannot rely on the polls to forecast the result, what could happen on November 3?\n",
    "#The Times has produced a tool to explore eight potential outcomes, from a Biden landslide to a repeat of 2016.\n",
    "#Select a results-day scenario to see how the political map\n",
    "\n"
   ]
  },
  {
   "cell_type": "code",
   "execution_count": 17,
   "metadata": {},
   "outputs": [
    {
     "name": "stdout",
     "output_type": "stream",
     "text": [
      "Sentiment of the SUMMARY\n",
      "Sentiment(polarity=0.004040404040404039, subjectivity=0.3103535353535354)\n",
      "Sentiment of the Whole Article\n",
      "Sentiment(polarity=0.055258047508047504, subjectivity=0.4314774392274392)\n"
     ]
    }
   ],
   "source": [
    "text = TextBlob(news_article.summary)\n",
    "print('Sentiment of the SUMMARY')\n",
    "print(text.sentiment)\n",
    "\n",
    "print('Sentiment of the Whole Article')\n",
    "print(sentimentAnalysis(url).sentiment)"
   ]
  },
  {
   "cell_type": "code",
   "execution_count": null,
   "metadata": {},
   "outputs": [],
   "source": []
  },
  {
   "cell_type": "code",
   "execution_count": null,
   "metadata": {},
   "outputs": [],
   "source": []
  },
  {
   "cell_type": "code",
   "execution_count": 18,
   "metadata": {},
   "outputs": [
    {
     "data": {
      "text/plain": [
       "TextBlob(\"Sir Patrick Vallance dijo que se esperaría que eso llevara a alrededor de \"más de 200 muertes por día\" un mes después de eso.\n",
       "El lunes, se informaron 4.368 casos diarios más en el Reino Unido, frente a los 3.899.\n",
       "\"Se esperaría que cincuenta mil casos por día llevaran un mes después, digamos a mediados de noviembre, a más de 200 muertes por día.\n",
       "\"Eso requiere velocidad, requiere acción y requiere lo suficiente para poder derribar eso\".\n",
       "La advertencia sobre 50.000 casos al día a mediados de octubre es cruda.\")"
      ]
     },
     "execution_count": 18,
     "metadata": {},
     "output_type": "execute_result"
    }
   ],
   "source": [
    "### OTHERS\n",
    "#translate\n",
    "b = TextBlob(news_article.summary)\n",
    "b.translate(to=\"es\")"
   ]
  },
  {
   "cell_type": "code",
   "execution_count": null,
   "metadata": {},
   "outputs": [],
   "source": []
  },
  {
   "cell_type": "code",
   "execution_count": null,
   "metadata": {},
   "outputs": [],
   "source": []
  },
  {
   "cell_type": "code",
   "execution_count": null,
   "metadata": {},
   "outputs": [],
   "source": []
  },
  {
   "cell_type": "code",
   "execution_count": null,
   "metadata": {},
   "outputs": [],
   "source": []
  },
  {
   "cell_type": "code",
   "execution_count": null,
   "metadata": {},
   "outputs": [],
   "source": []
  },
  {
   "cell_type": "code",
   "execution_count": 25,
   "metadata": {},
   "outputs": [
    {
     "name": "stdout",
     "output_type": "stream",
     "text": [
      "https://www.bbc.co.uk/news/live/world-54245931\n",
      "https://www.bbc.co.uk/news/business-54243383\n",
      "https://www.bbc.co.uk/news/entertainment-arts-54188525\n",
      "https://www.bbc.co.uk/programmes/articles/2FG3DD5rFbyylSZ3tH63pDZ/is-it-ever-ok-to-call-someone-a-chav\n",
      "https://www.bbc.co.uk/news/health-54233515\n",
      "https://www.bbc.co.uk/news/uk-51768274\n",
      "https://www.bbc.co.uk/news/uk-54247372\n",
      "https://www.bbc.co.uk/news/uk-politics-54241844\n",
      "https://www.bbc.co.uk/news/uk-scotland-54159291\n",
      "https://www.bbc.co.uk/news/uk-wales-54239181\n",
      "https://www.bbc.co.uk/news/uk-northern-ireland-54245790\n",
      "https://www.bbc.co.uk/programmes/articles/316kGQcrs0VpRl8QwNXlmWg/womans-hour-power-list-2020-our-planet\n",
      "https://www.bbc.co.uk/news/av/health-54211802\n",
      "https://www.bbc.co.uk/news/av/uk-england-shropshire-54103467\n",
      "https://www.bbc.co.uk/news/entertainment-arts-54235307\n",
      "https://www.bbc.co.uk/news/entertainment-arts-54232806\n",
      "https://www.bbc.co.uk/news/uk-wales-54239180\n",
      "https://www.bbc.co.uk/news/stories-54191344\n",
      "https://www.bbc.co.uk/news/science-environment-54238399\n",
      "https://www.bbc.co.uk/news/science-environment-54211760\n",
      "https://www.bbc.co.uk/news/stories-54071599\n",
      "https://www.bbc.co.uk/news/world-australia-54244499\n",
      "https://www.bbc.co.uk/news/uk-54204053\n",
      "https://www.bbc.co.uk/news/business-54242176\n",
      "https://www.bbc.com/news/world-us-canada-54238936\n",
      "https://www.bbc.com/news/world-europe-54244025\n",
      "https://www.bbc.com/news/world/europe\n",
      "https://www.bbc.com/worklife/article/20200915-would-you-pay-to-follow-an-influencer\n",
      "https://www.bbc.com/future/article/20200918-the-fiasco-of-the-us-swine-flu-affair-of-1976\n",
      "https://www.bbc.com/news/uk-54247372\n",
      "https://www.bbc.com/news/world-middle-east-54235202\n",
      "https://www.bbc.com/news/world-africa-54237969\n",
      "https://www.bbc.com/reel/video/p08s4mmc/the-perfect-insults-you-ve-never-heard-of\n",
      "https://www.bbc.com/reel/video/p07hvm9d/the-cupboard-sized-flats-of-tokyo\n",
      "https://www.bbc.com/culture/article/20200921-is-2020-a-turning-point-for-fashion\n",
      "https://www.bbc.com/news/business-54238918\n",
      "https://www.bbc.com/news/stories-54106272\n",
      "https://www.bbc.com/news/stories\n",
      "https://www.bbc.com/news/newsbeat-54240141\n",
      "https://www.bbc.com/news/newsbeat\n",
      "https://www.bbc.com/news/health-54246403\n",
      "https://www.bbc.com/news/business-54230742\n",
      "https://www.bbc.com/news/business-54242055\n",
      "https://www.bbc.co.uk/news/business-53995282\n",
      "https://www.bbc.com/news/business-22449886\n",
      "https://www.bbc.com/news/world-latin-america-54239881\n",
      "https://www.bbc.com/news/world/latin_america\n",
      "https://www.bbc.com/news/business-54235112\n",
      "https://www.bbc.com/news/world-middle-east-54237970\n",
      "https://www.bbc.com/news/entertainment-arts-54235022\n",
      "https://www.bbc.com/news/uk-54236269\n",
      "http://www.bbc.com/news/business/\n",
      "https://www.bbc.com/news/54233235\n",
      "https://www.bbc.com/news/uk-54241580\n",
      "https://www.bbc.com/news/entertainment-arts-54188525\n",
      "https://www.bbc.com/news/science-environment-54246485\n",
      "https://www.bbc.com/news/technology-54233234\n",
      "https://www.bbc.com/news/world-europe-54239446\n",
      "https://www.bbc.com/news/science-environment-54211760\n",
      "https://www.bbc.com/news/in-pictures-54153958\n",
      "https://www.bbc.com/news/in-pictures-54167602\n"
     ]
    }
   ],
   "source": [
    "#####https://newspaper.readthedocs.io/en/latest/\n",
    "import newspaper\n",
    "\n",
    "cnn_paper = newspaper.build('https://www.bbc.co.uk/')\n",
    "\n",
    "for article in cnn_paper.articles:\n",
    "    print(article.url)"
   ]
  },
  {
   "cell_type": "code",
   "execution_count": 26,
   "metadata": {},
   "outputs": [
    {
     "name": "stdout",
     "output_type": "stream",
     "text": [
      "https://www.bbc.co.uk/\n",
      "https://downloads.bbc.co.uk\n",
      "https://www.bbc.com\n",
      "https://www.bbc.co.uk\n"
     ]
    }
   ],
   "source": [
    "for category in cnn_paper.category_urls():\n",
    "    print(category)"
   ]
  },
  {
   "cell_type": "code",
   "execution_count": 30,
   "metadata": {},
   "outputs": [
    {
     "data": {
      "text/plain": [
       "'First it was the scientists, now it’s the turn of ministers.\\n\\nOn Monday the government\\'s two most senior coronavirus advisers - Prof Chris Witty and Sir Patrick Vallance - set out the scale of the problem. Today ministers are coming forward with the solution.\\n\\nThe scientists\\' warning was dire – the UK could see 50,000 cases by mid October – up from under 4,000 a day on average currently.\\n\\nThe government\\'s response? So far what we’ve heard on government policy for England is that pubs will have to close early and that you should work from home if you can (although more restrictions may be announced later).\\n\\nThere seems to be a disconnect between the two. Why?\\n\\nSome experts have described the 50,000 figures as implausible. France and Spain – who are a few weeks ahead of us – are nowhere near that trajectory. What is more, the \"rule of six\" brought in last week has not had a chance to have an impact.\\n\\nMany believe what we are seeing now is a natural drift upwards – society has reopened and it is the time of year when respiratory viruses circulate more.\\n\\nSo why all the doom and gloom? There are three ways of looking at it. Firstly, that we are truly on the brink of an explosion in cases (they after all are the experts and have access to all the data).\\n\\nSecondly, that they are panicking and have turned to scaremongering to soften the public up for more restrictions. The other is that they are trying to influence behaviour so more Draconian restrictions are not needed.\\n\\nJust how far the prime minister goes this afternoon will be telling.'"
      ]
     },
     "execution_count": 30,
     "metadata": {},
     "output_type": "execute_result"
    }
   ],
   "source": [
    "cnn_article = cnn_paper.articles[0]\n",
    "cnn_article.download()\n",
    "cnn_article.parse()\n",
    "cnn_article.nlp()\n",
    "cnn_article.text"
   ]
  },
  {
   "cell_type": "code",
   "execution_count": 31,
   "metadata": {},
   "outputs": [
    {
     "data": {
      "text/plain": [
       "'Image copyright Getty Images\\n\\nAnyone renewing their home or motor insurance should pay no more than they would as a new customer, under a proposed shake-up of the sector.\\n\\nThe Financial Conduct Authority (FCA) said the \"radical\" reforms would save consumers £3.7bn over 10 years.\\n\\nIf adopted, the plans would see customers, old and new, buying on the same channel getting the same price.\\n\\nSo those buying, for example, online would get the equivalent deal, whether renewing or a new customer.\\n\\nChristopher Woolard, interim chief executive of the FCA, said: \\'We are consulting on a radical package that would ensure firms cannot charge renewing customers more than new customers in future, and put an end to the very high prices paid by some long-standing customers.\"\\n\\nThe FCA has been studying ways to prevent six million people paying on average £200 too much on premiums.\\n\\nOverall, the FCA had suggested consumers were overpaying by £1.2bn a year.\\n\\nHow price rises affect you\\n\\nSo-called price walking is when a customer is charged more, year after year, by staying with the same insurance company - even though their risk is no greater.\\n\\nThe FCA points to an example in which a new customer for home insurance typically pays £130 for a year\\'s cover.\\n\\nBut for the same policy, having stayed with the same insurer for five years, that annual premium rises to £238.\\n\\nFor motor insurance, new customers pay £285 while customers who have been with their provider for more than five years pay £370, according to the FCA\\'s example.\\n\\n\\'Loyalty penalty\\'\\n\\nThe FCA has been looking to tackle the loyalty penalty - a result in the growth, and encouragement, of shopping around for insurance, overdrafts and utilities.\\n\\nThose who switch get the best deals as new customers. Those who stay loyal get charged more.\\n\\nTen million policies across home and motor insurance are held by people who have been with their provider for five years or more.\\n\\nThis is accentuated by the poverty premium - you get a worse deal if your finances are less \"resilient\", you struggle with handling money, or do not have internet access to find the cheapest deals.\\n\\nImage copyright Getty Images Image caption Motor cover is one of the area\\'s investigated by the FCA\\n\\nThe regulator\\'s research into household and motor insurance had already found that more than one in 10 people were paying very high prices for their cover. One in three of them were vulnerable in some way, perhaps elderly or lower paid.\\n\\nIt said that some insurers targeted price increases at those less likely to switch. Insurers also made it difficult for some customers to stop automatic renewals at higher prices, such as leaving them waiting a long time on the phone to cancel.\\n\\nHowever, the FCA also found that those switching very regularly are likely to be flagged by insurers, and possibly blocked from the best deals.\\n\\nSo, somebody considered to be a savvy shopper by looking around would also be penalised.\\n\\nUnder these proposals, some of the cheapest deals could disappear from the market anyway as insurers protect their income.\\n\\nWhat next?\\n\\nUnder the proposals, firms would be free to set prices for new customers, but they would be prevented from gradually increasing the renewal price to consumers over time, other than in line with changes in a customer\\'s risk.\\n\\nFirms would also need to consider how they offered fair value to all customers over the longer term and were being told to report certain data to the FCA, so that it could check the rules are being followed.\\n\\nThe proposals will now go to consultation until late January, and could come into force during next year.\\n\\nDame Gillian Guy, chief executive of Citizens Advice, called for swift implementation of the plan.\\n\\n\"It is nearly two years since we submitted a super-complaint on the loyalty penalty and we\\'re pleased to see the FCA is proposing strong action to crack down on this systematic scam,\" she said.\\n\\nThe Association of British Insurers (ABI), which represents the sector, said there were winners and losers under the current system.\\n\\n\"Insurers and brokers have already begun to tackle the issue of excessive price differences between new and existing customers through an industry initiative that has seen over 8.5 million pricing interventions across home and motor insurance worth £641m,\" said ABI director general Huw Evans.\\n\\n\"It is vital that price comparison websites and insurance brokers are subject to the same level of supervision and monitoring by the FCA to ensure a balanced approach.\"'"
      ]
     },
     "execution_count": 31,
     "metadata": {},
     "output_type": "execute_result"
    }
   ],
   "source": [
    "cnn_article = cnn_paper.articles[1]\n",
    "cnn_article.download()\n",
    "cnn_article.parse()\n",
    "cnn_article.nlp()\n",
    "cnn_article.text"
   ]
  },
  {
   "cell_type": "code",
   "execution_count": 32,
   "metadata": {},
   "outputs": [
    {
     "ename": "NameError",
     "evalue": "name 'text' is not defined",
     "output_type": "error",
     "traceback": [
      "\u001b[1;31m---------------------------------------------------------------------------\u001b[0m",
      "\u001b[1;31mNameError\u001b[0m                                 Traceback (most recent call last)",
      "\u001b[1;32m<ipython-input-32-d31928c2d799>\u001b[0m in \u001b[0;36m<module>\u001b[1;34m\u001b[0m\n\u001b[1;32m----> 1\u001b[1;33m \u001b[0mtype\u001b[0m\u001b[1;33m(\u001b[0m\u001b[0mtext\u001b[0m\u001b[1;33m)\u001b[0m\u001b[1;33m\u001b[0m\u001b[0m\n\u001b[0m",
      "\u001b[1;31mNameError\u001b[0m: name 'text' is not defined"
     ]
    }
   ],
   "source": []
  }
 ],
 "metadata": {
  "kernelspec": {
   "display_name": "Python 3",
   "language": "python",
   "name": "python3"
  },
  "language_info": {
   "codemirror_mode": {
    "name": "ipython",
    "version": 3
   },
   "file_extension": ".py",
   "mimetype": "text/x-python",
   "name": "python",
   "nbconvert_exporter": "python",
   "pygments_lexer": "ipython3",
   "version": "3.8.5"
  }
 },
 "nbformat": 4,
 "nbformat_minor": 2
}
