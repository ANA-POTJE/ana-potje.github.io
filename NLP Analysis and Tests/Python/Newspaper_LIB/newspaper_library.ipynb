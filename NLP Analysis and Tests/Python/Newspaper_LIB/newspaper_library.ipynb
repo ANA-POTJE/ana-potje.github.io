{
 "cells": [
  {
   "cell_type": "code",
   "execution_count": 7,
   "metadata": {},
   "outputs": [],
   "source": [
    "#https://www.tutorialspoint.com/python-module-newspaper-for-article-scraping-and-curation\n",
    "from newspaper import Article"
   ]
  },
  {
   "cell_type": "code",
   "execution_count": 8,
   "metadata": {},
   "outputs": [],
   "source": [
    "#url link-which you want to extract\n",
    "url = \"https://www.wsj.com/articles/lawmakers-to-resume-stalled-border-security-talks-11549901117\""
   ]
  },
  {
   "cell_type": "code",
   "execution_count": 9,
   "metadata": {},
   "outputs": [
    {
     "name": "stdout",
     "output_type": "stream",
     "text": [
      "['Kristina Peterson', 'Andrew Duehren', 'Natalie Andrews']\n",
      "None\n",
      "https://images.wsj.net/im-51122/social\n"
     ]
    },
    {
     "data": {
      "text/plain": [
       "'WASHINGTON—Senior lawmakers said Monday night they had reached an agreement in principle on a sweeping deal to end a monthslong fight over border security and avoid a partial government shutdown this weekend.\\n\\nThe top four lawmakers on the House and Senate Appropriations Committees emerged after three closed-door meetings Monday and announced that they had agreed to a framework for all seven spending bills whose funding expires at 12:01 a.m. Saturday.\\n\\n...'"
      ]
     },
     "execution_count": 9,
     "metadata": {},
     "output_type": "execute_result"
    }
   ],
   "source": [
    "article = Article(url)\n",
    "article.download()\n",
    "article.parse()\n",
    "#article.html\n",
    "print(article.authors)\n",
    "print(article.publish_date)\n",
    "print(article.top_image)\n",
    "article.text"
   ]
  },
  {
   "cell_type": "code",
   "execution_count": 10,
   "metadata": {},
   "outputs": [
    {
     "name": "stdout",
     "output_type": "stream",
     "text": [
      "[]\n",
      "WASHINGTON—Senior lawmakers said Monday night they had reached an agreement in principle on a sweeping deal to end a monthslong fight over border security and avoid a partial government shutdown this weekend.\n",
      "The top four lawmakers on the House and Senate Appropriations Committees emerged after three closed-door meetings Monday and announced that they had agreed to a framework for all seven spending bills whose funding expires at 12:01 a.m. Saturday.\n"
     ]
    }
   ],
   "source": [
    "#article.nlp()\n",
    "print(article.keywords)\n",
    "article.nlp()\n",
    "print(article.summary)"
   ]
  },
  {
   "cell_type": "code",
   "execution_count": null,
   "metadata": {},
   "outputs": [],
   "source": []
  },
  {
   "cell_type": "code",
   "execution_count": 11,
   "metadata": {},
   "outputs": [
    {
     "name": "stdout",
     "output_type": "stream",
     "text": [
      "[]\n",
      "None\n",
      "https://ichef.bbci.co.uk/news/1024/branded_news/6129/production/_113937842_mediaitem113937841.jpg\n"
     ]
    },
    {
     "data": {
      "text/plain": [
       "'Image copyright Getty Images Image caption Students will have to form a household bubble with their flatmates when they move into university halls\\n\\nStudents starting university this month are in for a \"very different\" experience, the president of a Welsh student body has said.\\n\\nWith coronavirus restrictions across Wales, students will see many typical freshers\\' events cancelled and have to form household bubbles with strangers.\\n\\nOnly six people from the same extended household can meet indoors in Wales.\\n\\nBecky Ricketts, from National Union of Students (NUS) Wales, said loneliness would be a bigger problem this year.\\n\\nOne university said it has spent about £1m to make its facilities Covid-19 safe.\\n\\nMs Ricketts said: \"I think there\\'s a recognition that our welcome week is going to be very different this year.\\n\\n\"I think there\\'s also the recognition across our student body that this is done to keep staff and students safe. Safety in our campuses is absolutely our number one priority to make sure that any activity that we do is safe for staff and students.\\n\\n\"At the moment all of our student unions in universities across Wales are holding online freshers\\' events, online welcome events to help with that social interaction.\"\\n\\nImage caption NUS Wales president Becky Ricketts said isolation and loneliness were likely to be bigger problems for students this year\\n\\nShe added: \"There\\'s also a limited amount of face-to-face interaction happening in line with the \\'rule of six\\' and the new guidance given by the Welsh Government.\\n\\n\"Alongside this, universities are providing good mental health support to the students, because we recognise that isolation and loneliness will be a bigger problem than in previous years.\"\\n\\nCerys Maryan, a third-year student at Swansea University and part-time environment officer at the students\\' union, said she \"didn\\'t envy\" those starting their first year this month.\\n\\n\"It\\'s going to be completely different,\" she said.\\n\\n\"You\\'ll be restricted to your household and you might not have common interests with one another, so you might not have that opportunity to mix with other people on your course or even clubs and societies. It will be really different so I don\\'t envy them.\"\\n\\nImage caption Third-year student Cerys Maryan says students who have a lack of common interests with their new housemates may struggle\\n\\nWill students have to form household bubbles?\\n\\nWelsh Government rules apply to all students who will be studying in Wales, so those who move into university halls will have to form household bubbles with those who live in the same flat as them.\\n\\nUnder the current \"rule of six\", students will not be able to socialise indoors with any more than five other people, effectively ruling out spending time indoors with students from other flats.\\n\\nStudents can visit pubs and restaurants, but only with members of their household, again meaning students cannot meet up with friends from outside their bubble at pubs.\\n\\nImage copyright Colin Smith/Geograph Image caption Students will be starting at Cardiff University over the next few weeks - but things will be very different to previous years\\n\\nSwansea University and Wrexham Glyndwr University have both said students from different households should not meet indoors.\\n\\nHowever, up to 30 people can meet outside.\\n\\nWrexham Glyndwr has also said overnight stays in student halls will not be allowed, while Aberystwyth University has advised students to keep at least two metres apart at all times and to avoid sharing dishes in university halls.\\n\\nCan students have parties?\\n\\nWith coronavirus restrictions limiting the number of people who can meet indoors in Wales to six people from an extended household, students will be unable to have large house parties.\\n\\nBut, despite term not yet starting, Ali Morris, from Brynmill in Swansea, said she was woken up by a loud student party at 04:00 BST and found a group of 40 students partying on a street corner.\\n\\nImage caption Brynmill resident Ali Morris said parties had started over the last two weeks, ahead of the new academic year\\n\\n\"Over the last two weeks there\\'s been a slow return of the student population back into Brynmill and I suppose with the combination of the nice weather we\\'ve had and the lockdown measures there\\'s been a massive increase in garden parties, house parties and general noisiness around the area.\\n\\n\"There\\'s definitely a concern around the Covid-19 situation because we\\'ve got students coming to Swansea from all parts of the UK,\" she said.\\n\\nSwansea University said it was investigating whether any of its students were involved in the party and \"appropriate action\" would be taken against any student who breaks the rules.\\n\\nWhat about local lockdowns and quarantines?\\n\\nThe University of South Wales (USW) currently has one campus under a local lockdown in Treforest, Rhondda Cynon Taf.\\n\\nIn a statement on Wednesday, USW said: \"Students will still be able to move into their accommodation within the area, including in our university-owned halls of residence in Treforest.\"\\n\\nImage copyright Getty Images Image caption Rhondda Cynon Taf went into lockdown on Thursday evening\\n\\nBut once students have moved into the accommodation, they will not be allowed to leave Rhondda Cynon Taf, and must wear face coverings in indoor spaces and only meet people from outside their household outdoors.\\n\\nMeanwhile, any foreign students arriving from nations which are not listed as travel corridors, such as France, the Netherlands or mainland Portugal, will have to isolate for 14-days after they arrive at university, wherever it is in Wales.\\n\\n£1m spent on making campus Covid-19 safe\\n\\nPreparing for students\\' safe return has cost Cardiff Metropolitan University about £1m, according to president and vice-chancellor Prof Cara Aitchison.\\n\\nOver the summer, it has installed \"hi-tech solutions\" to touch points like door ways, protective screens, new outdoor seating areas, and introduced one-way systems.\\n\\n\"It has cost us a lot to make these adaptations,\" she told BBC Radio Wales\\' Sunday Supplement programme.'"
      ]
     },
     "execution_count": 11,
     "metadata": {},
     "output_type": "execute_result"
    }
   ],
   "source": [
    "### BBC\n",
    "############url = \"https://www.bbc.co.uk/news/uk-54229845\"\n",
    "url = \"https://www.bbc.co.uk/news/uk-wales-54167804\"\n",
    "\n",
    "article = Article(url)\n",
    "article.download()\n",
    "article.parse()\n",
    "#article.html\n",
    "print(article.authors)\n",
    "print(article.publish_date)\n",
    "print(article.top_image)\n",
    "article.text"
   ]
  },
  {
   "cell_type": "code",
   "execution_count": 12,
   "metadata": {},
   "outputs": [
    {
     "name": "stdout",
     "output_type": "stream",
     "text": [
      "['universities', 'students', 'caption', 'welsh', 'covid', 'meet', 'starting', 'university', 'different', 'theres', 'wales', 'freshers', 'household', 'week', 'set', 'student']\n",
      "With coronavirus restrictions across Wales, students will see many typical freshers' events cancelled and have to form household bubbles with strangers.\n",
      "Becky Ricketts, from National Union of Students (NUS) Wales, said loneliness would be a bigger problem this year.\n",
      "Ms Ricketts said: \"I think there's a recognition that our welcome week is going to be very different this year.\n",
      "\"I think there's also the recognition across our student body that this is done to keep staff and students safe.\n",
      "\"At the moment all of our student unions in universities across Wales are holding online freshers' events, online welcome events to help with that social interaction.\"\n"
     ]
    }
   ],
   "source": [
    "article.nlp()\n",
    "print(article.keywords)\n",
    "print(article.summary)"
   ]
  },
  {
   "cell_type": "code",
   "execution_count": 18,
   "metadata": {},
   "outputs": [
    {
     "name": "stdout",
     "output_type": "stream",
     "text": [
      "https://www.bbc.co.uk/news/localnews\n",
      "https://www.bbc.com/news/uk-54225572\n",
      "https://www.bbc.com/news/uk\n",
      "https://www.bbc.com/news/uk-54226107\n",
      "https://www.bbc.com/news/entertainment-arts-54146614\n",
      "https://www.bbc.com/news/entertainment_and_arts\n",
      "https://www.bbc.com/culture/article/20200918-goodfellas-at-30-the-making-of-one-of-films-greatest-shots\n",
      "https://www.bbc.com/future/article/20200918-why-some-deadly-viruses-vanish-and-go-extinct\n",
      "https://www.bbc.com/news/world-us-canada-54227286\n",
      "https://www.bbc.com/news/world/us_and_canada\n",
      "https://www.bbc.com/news/live/world-54231625\n",
      "https://www.bbc.com/news/world\n",
      "https://www.bbc.com/news/world-asia-54231773\n",
      "https://www.bbc.com/news/world/asia\n",
      "https://www.bbc.com/reel/video/p08rvzn8/why-our-understanding-of-survival-of-the-fittest-is-wrong\n",
      "https://www.bbc.com/reel/video/p08rswtc/the-siberian-landscape-scarred-by-climate-change\n",
      "https://www.bbc.com/reel/video/p082hhdp/when-a-homeless-couple-moved-in-with-a-millionaire\n",
      "https://www.bbc.com/travel/story/20200921-jamaicas-port-royal-the-wickedest-city-on-earth\n",
      "https://www.bbc.com/culture/article/20200917-the-fine-line-between-art-and-pornography\n",
      "https://www.bbc.com/future/article/20200911-the-hidden-accents-that-betray-who-you-are\n",
      "https://www.bbc.com/worklife/article/20200917-what-makes-strangers-click\n",
      "https://www.bbc.com/news/entertainment-arts-54031647\n",
      "https://www.bbc.com/news/business-54146695\n",
      "https://www.bbc.com/news/business\n",
      "https://www.bbc.com/news/health-54228649\n",
      "https://www.bbc.com/news/health\n",
      "https://www.bbc.com/news/business-54230733\n",
      "https://www.bbc.com/news/business-54228889\n",
      "https://www.bbc.com/news/business-54228890\n",
      "https://www.bbc.com/news/world-us-canada-54223980\n",
      "https://www.bbc.com/news/world-us-canada-54221897\n",
      "https://www.bbc.com/future/article/20200915-the-himalayan-invention-powered-by-pine-needles\n",
      "https://www.bbc.com/future/article/20200910-the-remarkable-floating-gardens-of-bangladesh\n",
      "https://www.bbc.com/future/article/20200908-the-buildings-warmed-by-the-human-body\n",
      "https://www.bbc.com/travel/story/20200910-florences-wine-portals-from-the-17th-century\n",
      "https://www.bbc.com/worklife/article/20200827-how-survivorship-bias-can-cause-you-to-make-mistakes\n",
      "https://www.bbc.com/news/world-us-canada-54210412\n",
      "https://www.bbc.com/news/health-54211802\n",
      "https://www.bbc.com/news/world-africa-54208394\n",
      "https://www.bbc.com/news/world/africa\n",
      "https://www.bbc.com/news/uk-england-shropshire-54103467\n",
      "https://www.bbc.com/news/england/shropshire\n",
      "https://www.bbc.com/news/uk-54219509\n",
      "https://www.bbc.com/news/uk-40358825\n",
      "https://www.bbc.com/news/world-us-canada-40362067\n",
      "https://www.bbc.com/news/world-australia-40365981\n",
      "https://www.bbc.com/news/world/australia\n",
      "https://www.bbc.com/news/world-middle-east-40366136\n",
      "https://www.bbc.com/news/world/middle_east\n",
      "https://www.bbc.com/news/world-asia-40360168\n",
      "https://www.bbc.com/news/world-us-canada-54217105\n",
      "https://www.bbc.com/news/world-us-canada-54215488\n",
      "https://www.bbc.com/news/world-us-canada-54224405\n",
      "https://www.bbc.com/news/technology-54168429\n",
      "https://www.bbc.com/news/technology\n",
      "https://www.bbc.com/news/uk-54229845\n",
      "https://www.bbc.com/news/entertainment-arts-54230150\n",
      "https://www.bbc.com/news/science-environment-54208995\n",
      "https://www.bbc.com/news/science_and_environment\n",
      "https://www.bbc.com/news/technology-54176205\n",
      "https://www.bbc.com/news/world-africa-54225118\n",
      "https://www.bbc.com/news/world-us-canada-54199565\n",
      "https://www.bbc.com/news/business-54193288\n",
      "https://www.bbc.com/news/health-54145299\n",
      "https://www.bbc.com/news/technology-54172191\n",
      "https://www.bbc.com/news/health-51943612\n",
      "https://www.bbc.com/news/world-middle-east-54151712\n",
      "https://www.bbc.com/news/science-environment-54151861\n",
      "https://www.bbc.com/news/world-asia-india-54053091\n",
      "https://www.bbc.com/news/business-11428889\n",
      "https://www.bbc.com/news/business-53998711\n",
      "https://www.bbc.com/travel/story/20200915-the-unusual-tour-cleaning-amsterdams-canals\n",
      "https://www.bbc.com/news/in_pictures\n",
      "https://www.bbc.com/news/uk-england-beds-bucks-herts-53833081\n",
      "https://www.bbc.com/news/england/beds_bucks_and_herts\n",
      "https://www.bbc.com/news/uk-england-birmingham-54207014\n",
      "https://www.bbc.com/news/england/birmingham_and_black_country\n",
      "https://www.bbc.com/news/world-africa-54190729\n",
      "https://www.bbc.com/news/in-pictures-54189503\n",
      "https://www.bbc.com/news/in-pictures-54153086\n",
      "https://www.bbc.co.uk/news/live/world-54231625\n",
      "https://www.bbc.co.uk/news/business-54203447\n",
      "https://www.bbc.co.uk/news/entertainment-arts-54146614\n",
      "https://www.bbc.co.uk/programmes/articles/v5pK4tpBHGrLBLkpGNm6Fy/the-playstation-5-finally-has-a-price-and-release-date-but-what-about-launch-games\n",
      "https://www.bbc.co.uk/news/coronavirus\n",
      "https://www.bbc.co.uk/news/uk-54229845\n",
      "https://www.bbc.co.uk/news/business-54228890\n",
      "https://www.bbc.co.uk/news/uk-england-lancashire-54224544\n",
      "https://www.bbc.co.uk/news/uk-54228079\n",
      "https://www.bbc.co.uk/news/entertainment-arts-54230150\n",
      "https://www.bbc.co.uk/news/health-54228649\n",
      "https://www.bbc.co.uk/news/uk\n",
      "https://www.bbc.co.uk/news/uk-scotland-54232346\n",
      "https://www.bbc.co.uk/news/uk-wales-54167804\n",
      "https://www.bbc.co.uk/news/uk-northern-ireland-54228579\n",
      "https://www.bbc.co.uk/news/uk-england-leeds-54224681\n",
      "https://www.bbc.co.uk/iplayer/episode/p08r54d1/inside-cinema-shorts-49-pubs-on-film\n",
      "https://www.bbc.co.uk/news/entertainment-arts-54225774\n",
      "https://www.bbc.co.uk/news/uk-england-beds-bucks-herts-53833081\n",
      "https://www.bbc.co.uk/programmes/articles/4p6p1J4fQNzFwCj6CrfvvY6/this-years-harvest-was-too-hard-for-uk-workers\n",
      "https://www.bbc.co.uk/programmes/articles/25VPwYkdjsTPpmq961lTs60/five-amazing-species-we-re-close-to-losing-forever\n",
      "https://www.bbc.co.uk/news/uk-54229229\n",
      "https://www.bbc.co.uk/news/science-environment-54208995\n",
      "https://www.bbc.co.uk/news/science_and_environment\n",
      "https://www.bbc.co.uk/news/science-environment-54210367\n",
      "https://www.bbc.co.uk/programmes/articles/56Hgj7NKS3KJ4ttPkb5xPsK/my-house-was-taken-over-by-drug-dealers\n",
      "https://www.bbc.co.uk/news/business-54211209\n",
      "https://www.bbc.co.uk/news/uk-wales-54203722\n",
      "https://www.bbc.co.uk/programmes/articles/5ZPPPv2BtT7rfWd3z7pgvtM/8-music-mixes-to-help-you-focus\n",
      "https://www.bbc.co.uk/news/uk-54226107\n",
      "https://www.bbc.co.uk/news/world-us-canada-54223980\n",
      "https://www.bbc.co.uk/news/uk-england-norfolk-54118509\n",
      "https://www.bbc.co.uk/iplayer/episode/m000lw7z/blood-of-the-clans-series-1-1-the-year-of-victories\n",
      "https://www.bbc.co.uk/iplayer/episode/p08plmw8/radio-1s-live-lounge-little-mix?xtor=CS8-1000-[Discovery_Cards]-[Multi_Site]-[SL01]-[PS_IPLAYER~P~~P_LittleMixLiveLounge_episode]\n",
      "https://www.bbc.co.uk/news/help-41670342\n"
     ]
    }
   ],
   "source": [
    "#####https://newspaper.readthedocs.io/en/latest/\n",
    "    \n",
    "import newspaper\n",
    "\n",
    "bbc_paper = newspaper.build('https://www.bbc.co.uk/')\n",
    "\n",
    "for article in bbc_paper.articles:\n",
    "    print(article.url)\n",
    "#http://www.cnn.com/2013/11/27/justice/tucson-arizona-captive-girls/\n",
    "#http://www.cnn.com/2013/12/11/us/texas-teen-dwi-wreck/index.html"
   ]
  },
  {
   "cell_type": "code",
   "execution_count": 19,
   "metadata": {},
   "outputs": [
    {
     "name": "stdout",
     "output_type": "stream",
     "text": [
      "https://downloads.bbc.co.uk\n",
      "https://www.bbc.com\n",
      "https://www.bbc.co.uk\n",
      "https://www.bbc.co.uk/\n"
     ]
    }
   ],
   "source": [
    "for category in bbc_paper.category_urls():\n",
    "    print(category)\n"
   ]
  },
  {
   "cell_type": "code",
   "execution_count": 24,
   "metadata": {},
   "outputs": [
    {
     "data": {
      "text/plain": [
       "'The FinCEN Files are a leak of 2,657 documents, at the heart of which are 2,100 suspicious activity reports, or SARs.\\nIn reality, he was running the WCM777 Ponzi scheme.\\nBank officials said there was \"no apparent economic, business, or lawful purpose\" for the transactions - and noted allegations of \"Ponzi scheme activities\".\\nA Ponzi scheme - named after early 20th Century conman Charles Ponzi - does not generate profits from the cash it raises.\\nFinCEN Files: full coverage; follow reaction on Twitter using #FinCENFiles; in the BBC News app, follow the tag \"FinCEN Files; Watch Panorama on the BBC iPlayer (UK viewers only).'"
      ]
     },
     "execution_count": 24,
     "metadata": {},
     "output_type": "execute_result"
    }
   ],
   "source": [
    "bbc_article = bbc_paper.articles[1]\n",
    "bbc_article.download()\n",
    "bbc_article.parse()\n",
    "bbc_article.nlp()\n",
    "bbc_article.summary"
   ]
  },
  {
   "cell_type": "code",
   "execution_count": 27,
   "metadata": {},
   "outputs": [
    {
     "data": {
      "text/plain": [
       "'Image copyright Getty Images Image caption Students will have to form a household bubble with their flatmates when they move into university halls\\n\\nStudents starting university this month are in for a \"very different\" experience, the president of a Welsh student body has said.\\n\\nWith coronavirus restrictions across Wales, students will see many typical freshers\\' events cancelled and have to form household bubbles with strangers.\\n\\nOnly six people from the same extended household can meet indoors in Wales.\\n\\nBecky Ricketts, from National Union of Students (NUS) Wales, said loneliness would be a bigger problem this year.\\n\\nOne university said it has spent about £1m to make its facilities Covid-19 safe.\\n\\nMs Ricketts said: \"I think there\\'s a recognition that our welcome week is going to be very different this year.\\n\\n\"I think there\\'s also the recognition across our student body that this is done to keep staff and students safe. Safety in our campuses is absolutely our number one priority to make sure that any activity that we do is safe for staff and students.\\n\\n\"At the moment all of our student unions in universities across Wales are holding online freshers\\' events, online welcome events to help with that social interaction.\"\\n\\nImage caption NUS Wales president Becky Ricketts said isolation and loneliness were likely to be bigger problems for students this year\\n\\nShe added: \"There\\'s also a limited amount of face-to-face interaction happening in line with the \\'rule of six\\' and the new guidance given by the Welsh Government.\\n\\n\"Alongside this, universities are providing good mental health support to the students, because we recognise that isolation and loneliness will be a bigger problem than in previous years.\"\\n\\nCerys Maryan, a third-year student at Swansea University and part-time environment officer at the students\\' union, said she \"didn\\'t envy\" those starting their first year this month.\\n\\n\"It\\'s going to be completely different,\" she said.\\n\\n\"You\\'ll be restricted to your household and you might not have common interests with one another, so you might not have that opportunity to mix with other people on your course or even clubs and societies. It will be really different so I don\\'t envy them.\"\\n\\nImage caption Third-year student Cerys Maryan says students who have a lack of common interests with their new housemates may struggle\\n\\nWill students have to form household bubbles?\\n\\nWelsh Government rules apply to all students who will be studying in Wales, so those who move into university halls will have to form household bubbles with those who live in the same flat as them.\\n\\nUnder the current \"rule of six\", students will not be able to socialise indoors with any more than five other people, effectively ruling out spending time indoors with students from other flats.\\n\\nStudents can visit pubs and restaurants, but only with members of their household, again meaning students cannot meet up with friends from outside their bubble at pubs.\\n\\nImage copyright Colin Smith/Geograph Image caption Students will be starting at Cardiff University over the next few weeks - but things will be very different to previous years\\n\\nSwansea University and Wrexham Glyndwr University have both said students from different households should not meet indoors.\\n\\nHowever, up to 30 people can meet outside.\\n\\nWrexham Glyndwr has also said overnight stays in student halls will not be allowed, while Aberystwyth University has advised students to keep at least two metres apart at all times and to avoid sharing dishes in university halls.\\n\\nCan students have parties?\\n\\nWith coronavirus restrictions limiting the number of people who can meet indoors in Wales to six people from an extended household, students will be unable to have large house parties.\\n\\nBut, despite term not yet starting, Ali Morris, from Brynmill in Swansea, said she was woken up by a loud student party at 04:00 BST and found a group of 40 students partying on a street corner.\\n\\nImage caption Brynmill resident Ali Morris said parties had started over the last two weeks, ahead of the new academic year\\n\\n\"Over the last two weeks there\\'s been a slow return of the student population back into Brynmill and I suppose with the combination of the nice weather we\\'ve had and the lockdown measures there\\'s been a massive increase in garden parties, house parties and general noisiness around the area.\\n\\n\"There\\'s definitely a concern around the Covid-19 situation because we\\'ve got students coming to Swansea from all parts of the UK,\" she said.\\n\\nSwansea University said it was investigating whether any of its students were involved in the party and \"appropriate action\" would be taken against any student who breaks the rules.\\n\\nWhat about local lockdowns and quarantines?\\n\\nThe University of South Wales (USW) currently has one campus under a local lockdown in Treforest, Rhondda Cynon Taf.\\n\\nIn a statement on Wednesday, USW said: \"Students will still be able to move into their accommodation within the area, including in our university-owned halls of residence in Treforest.\"\\n\\nImage copyright Getty Images Image caption Rhondda Cynon Taf went into lockdown on Thursday evening\\n\\nBut once students have moved into the accommodation, they will not be allowed to leave Rhondda Cynon Taf, and must wear face coverings in indoor spaces and only meet people from outside their household outdoors.\\n\\nMeanwhile, any foreign students arriving from nations which are not listed as travel corridors, such as France, the Netherlands or mainland Portugal, will have to isolate for 14-days after they arrive at university, wherever it is in Wales.\\n\\n£1m spent on making campus Covid-19 safe\\n\\nPreparing for students\\' safe return has cost Cardiff Metropolitan University about £1m, according to president and vice-chancellor Prof Cara Aitchison.\\n\\nOver the summer, it has installed \"hi-tech solutions\" to touch points like door ways, protective screens, new outdoor seating areas, and introduced one-way systems.\\n\\n\"It has cost us a lot to make these adaptations,\" she told BBC Radio Wales\\' Sunday Supplement programme.'"
      ]
     },
     "execution_count": 27,
     "metadata": {},
     "output_type": "execute_result"
    }
   ],
   "source": [
    "from newspaper import fulltext\n",
    "import requests\n",
    "\n",
    "html = requests.get(\"https://www.bbc.co.uk/news/uk-wales-54167804\").text\n",
    "text = fulltext(html)\n",
    "text"
   ]
  },
  {
   "cell_type": "code",
   "execution_count": null,
   "metadata": {},
   "outputs": [],
   "source": []
  },
  {
   "cell_type": "code",
   "execution_count": null,
   "metadata": {},
   "outputs": [],
   "source": []
  },
  {
   "cell_type": "code",
   "execution_count": null,
   "metadata": {},
   "outputs": [],
   "source": []
  },
  {
   "cell_type": "code",
   "execution_count": null,
   "metadata": {},
   "outputs": [],
   "source": []
  },
  {
   "cell_type": "code",
   "execution_count": null,
   "metadata": {},
   "outputs": [],
   "source": []
  }
 ],
 "metadata": {
  "kernelspec": {
   "display_name": "Python 3",
   "language": "python",
   "name": "python3"
  },
  "language_info": {
   "codemirror_mode": {
    "name": "ipython",
    "version": 3
   },
   "file_extension": ".py",
   "mimetype": "text/x-python",
   "name": "python",
   "nbconvert_exporter": "python",
   "pygments_lexer": "ipython3",
   "version": "3.6.2"
  }
 },
 "nbformat": 4,
 "nbformat_minor": 2
}
