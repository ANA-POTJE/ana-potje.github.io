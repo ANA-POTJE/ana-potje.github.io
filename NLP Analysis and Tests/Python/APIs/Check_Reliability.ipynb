{
 "cells": [
  {
   "cell_type": "code",
   "execution_count": 1,
   "metadata": {},
   "outputs": [],
   "source": [
    "## https://cloud.gate.ac.uk/yourAccount/newApiKey\n",
    "#Key ID   == gcc3g8cmwyob\n",
    "#Password == 8ypn2huuqhu43zm3i2in\n",
    "#Description == Generated at 2020-09-22T12:05:02.182Z\n",
    "\n",
    "###resultFile-BBC-bbccouknewsuk-northern-ireland-54245790"
   ]
  },
  {
   "cell_type": "code",
   "execution_count": 6,
   "metadata": {},
   "outputs": [
    {
     "data": {
      "text/plain": [
       "{'text': 'https://www.usatoday.com', 'entities': {}}"
      ]
     },
     "execution_count": 6,
     "metadata": {},
     "output_type": "execute_result"
    }
   ],
   "source": [
    "import requests\n",
    "#url = \"https://www.bbc.co.uk\"\n",
    "#url = \"https://metro.co.uk/\" ## 82.5 ### 'Left Center' ## 'Media Bias/Fact Check' ## 20191001\n",
    "#url = \"https://www.thesun.co.uk/\" ##95\n",
    "#url = \"https://socialistworker.co.uk/\" ## null\n",
    "#url = \"https://www.spiked-online.com/\" ## null\n",
    "#url = \"https://www.thecanary.co/\"## null\n",
    "#url = \"https://www.breitbart.com/europe/\" ###'credibility-category': 'Fake News',\n",
    "#url= \"http://foodbabe.com/\"\n",
    "\n",
    "#url = \"https://www.bbc.co.uk\"\n",
    "url = \"https://www.usatoday.com\"\n",
    "\n",
    "Gate_Source_Cred_API = \"https://cloud-api.gate.ac.uk/process-document/source-credibility?annotations=:DomainCredibility\"\n",
    "reliability_txt = requests.post(Gate_Source_Cred_API, data = url, headers={'Content-Type': 'text/plain'}, \n",
    "                                auth=('gcc3g8cmwyob', '8ypn2huuqhu43zm3i2in'))\n",
    "rel_json = reliability_txt.json()\n",
    "rel_json"
   ]
  },
  {
   "cell_type": "code",
   "execution_count": 193,
   "metadata": {},
   "outputs": [
    {
     "name": "stdout",
     "output_type": "stream",
     "text": [
      "Mean is : 95.0\n"
     ]
    }
   ],
   "source": [
    "scores = []\n",
    "for item in rel_json['entities']['DomainCredibility']:\n",
    "    if item['credibility-source'] == 'Media Bias/Fact Check': ###!= 'NewsTrust':\n",
    "        scores += [item['credibility-score']]\n",
    "\n",
    "#scores = [item['credibility-score'] for item in rel_json['entities']['DomainCredibility']]\n",
    "\n",
    "import statistics \n",
    "avg_score = statistics.mean(scores)\n",
    "print(\"Mean is :\", avg_score)"
   ]
  },
  {
   "cell_type": "code",
   "execution_count": 1,
   "metadata": {},
   "outputs": [],
   "source": [
    "## Function: getCredibilityScore\n",
    "## Input: URL\n",
    "## Output: Credibility Score, Category and Source\n",
    "## Author: The Sentimentalists / Ana B Potje\n",
    "## Date: 24/Sep/2020\n",
    "##\n",
    "## This function calls the API Gate Source Credibility passing the URL to be analized.\n",
    "## It returns the Score, Category (Left Center, Fake News, ...) and the Source.\n",
    "## If the website is reated in the source 'Media Bias/Fact Check', this source is then used.\n",
    "## Otherwise it will a different source that rated the website, or return \"-1\" in case no rating is found.\n",
    "###########################################################################################################\n",
    "\n",
    "def getCredibilityScore(url):\n",
    "    import requests\n",
    "    import getSecret as secrets\n",
    "\n",
    "    p_score = 0\n",
    "    p_category = '' \n",
    "    p_source = ''\n",
    "    return_dict = {'type': 'credibility', 'outcome': {'score': -1} }\n",
    "\n",
    "    aws_secrets = secrets.getSecret(\"prod/getCredibilityScore/GATEKey\", \"eu-west-2\")\n",
    "    if \"error\" in aws_secrets:\n",
    "        return return_dict\n",
    "    \n",
    "    Gate_Source_Cred_API = \"https://cloud-api.gate.ac.uk/process-document/source-credibility?annotations=:DomainCredibility\"\n",
    "    cred_txt = requests.post(Gate_Source_Cred_API, data = url, headers={'Content-Type': 'text/plain'}, \n",
    "                                    auth=(aws_secrets['apiid'], aws_secrets['apikey']))\n",
    "    rel_json = cred_txt.json()\n",
    "\n",
    "    if (rel_json['entities'] != {}):\n",
    "        for item in rel_json['entities']['DomainCredibility']:\n",
    "            p_score = item.get('credibility-score', 0)\n",
    "            p_category = item.get('credibility-category', '')\n",
    "            p_source = item.get('credibility-source', '')\n",
    "\n",
    "            return_dict = {'type': 'credibility', 'outcome' : { 'score': p_score, 'source': p_source, 'category': p_category }}\n",
    "\n",
    "            if item['credibility-source'] == 'Media Bias/Fact Check':\n",
    "                return(return_dict)\n",
    "    else:\n",
    "        return_dict = {'type': 'credibility', 'outcome': {\"error\" : \"The credibility score was not available.\"}}\n",
    "        return(return_dict)\n",
    "    \n",
    "    ## in case there is no 'Media Bias/Fact Check' but a different source:    \n",
    "    return(return_dict)"
   ]
  },
  {
   "cell_type": "code",
   "execution_count": 6,
   "metadata": {
    "scrolled": true
   },
   "outputs": [
    {
     "data": {
      "text/plain": [
       "{'type': 'credibility',\n",
       " 'outcome': {'score': 95.0,\n",
       "  'source': 'Media Bias/Fact Check',\n",
       "  'category': 'UNS'}}"
      ]
     },
     "execution_count": 6,
     "metadata": {},
     "output_type": "execute_result"
    }
   ],
   "source": [
    "#url = \"https://metro.co.uk/\"              ## (82.5, 'Left Center', 'Media Bias/Fact Check')\n",
    "#url = \"https://www.thesun.co.uk/\"         ## (95.0, 'UNS', , 'Media Bias/Fact Check')      ### RIGHT BIAS\n",
    "#url = \"http://foodbabe.com/\"               ## (25.0, 'unreliable', 'Human Assigned')\n",
    "#url = \"http://www.mercola.com/\"           ## (35.0, 'Conspiracy', 'Media Bias/Fact Check')\n",
    "#\n",
    "#url = \"https://www.breitbart.com/europe/\" ## (49.5, 'Fake News', 'Media Bias/Fact Check')\n",
    "#url = \"https://socialistworker.co.uk/\"    ## -1\n",
    "#url = \"https://www.spiked-online.com/\"    ## -1\n",
    "#url = \"https://www.thecanary.co/\"         ## -1\n",
    "\n",
    "url = \"https://www.bbc.co.uk\"             ## (95.0, 'UNS', 'Media Bias/Fact Check') ### LEFT-CENTER BIAS\n",
    "#url = \"https://www.bbc.co.uk/news/election-us-2020-54350538\"\n",
    "\n",
    "#url = \"https://metro.co.uk/\"              ## (82.5, 'Left Center', 'Media Bias/Fact Check')\n",
    "#url = \"https://eu.usatoday.com/\"\n",
    "#url = 'https://www.wsj.com/articles/covid-19-left-u-k-s-boris-johnson-and-brazils-jair-bolsonaro-unscathed-politically-11601739583'\n",
    "#url = \"https://www.nbcnews.com/news/us-news/canadian-woman-charged-sending-ricin-laced-letter-white-house-n1240760\"\n",
    "\n",
    "#url = 'http://www.alternativenation.net/van-halen-fans-detail-tour-new-guitarist-proposal/'\n",
    "#url = 'http://www.angelfire.lycos.com/'\n",
    "\n",
    "getCredibilityScore(url)"
   ]
  },
  {
   "cell_type": "code",
   "execution_count": null,
   "metadata": {},
   "outputs": [],
   "source": [
    "url = \"https://www.thesun.co.uk/\"         ## (95.0, 'UNS', , 'Media Bias/Fact Check')      ### RIGHT BIAS\n",
    "url = \"https://www.bbc.co.uk\"             ## (95.0, 'UNS', 'Media Bias/Fact Check')        ### LEFT-CENTER BIAS\n"
   ]
  },
  {
   "cell_type": "code",
   "execution_count": null,
   "metadata": {},
   "outputs": [],
   "source": []
  },
  {
   "cell_type": "code",
   "execution_count": null,
   "metadata": {},
   "outputs": [],
   "source": []
  },
  {
   "cell_type": "code",
   "execution_count": 9,
   "metadata": {},
   "outputs": [],
   "source": [
    "## Function: getCredibilityScore\n",
    "## Input: URL\n",
    "## Output: Credibility Score, Category and Source\n",
    "## Author: The Sentimentalists / Ana B Potje\n",
    "## Date: 24/Sep/2020\n",
    "##\n",
    "## This function calls the API Gate Source Credibility passing the URL to be analized.\n",
    "## It returns the Score, Category (Left Center, Fake News, ...) and the Source.\n",
    "## If the website is reated in the source 'Media Bias/Fact Check', this source is then used.\n",
    "## Otherwise it will a different source that rated the website, or return \"-1\" in case no rating is found.\n",
    "###########################################################################################################\n",
    "\n",
    "def getCredibilityScore(url):\n",
    "    import requests\n",
    "#    import getSecret as secrets\n",
    "\n",
    "    p_score = 0\n",
    "    p_category = '' \n",
    "    p_source = ''\n",
    "    return_dict = {'type': 'credibility', 'outcome': {'score': -1} }\n",
    "\n",
    "    return_dict = {'type': 'credibility', 'outcome' : { 'score': 50, 'source': 'media bias', 'category': 'fake news' }}\n",
    "\n",
    "    \n",
    "    ## in case there is no 'Media Bias/Fact Check' but a different source:    \n",
    "    return(return_dict)"
   ]
  },
  {
   "cell_type": "code",
   "execution_count": 12,
   "metadata": {},
   "outputs": [
    {
     "data": {
      "text/plain": [
       "dict"
      ]
     },
     "execution_count": 12,
     "metadata": {},
     "output_type": "execute_result"
    }
   ],
   "source": [
    "getCredibilityScore\n",
    "url = \"https://www.bbc.co.uk/news/election-us-2020-54350538\"\n",
    "x = getCredibilityScore(url)\n",
    "type(x)"
   ]
  },
  {
   "cell_type": "code",
   "execution_count": 16,
   "metadata": {},
   "outputs": [
    {
     "name": "stdout",
     "output_type": "stream",
     "text": [
      "ok\n"
     ]
    },
    {
     "data": {
      "text/plain": [
       "{'score': 50, 'source': 'media bias', 'category': 'fake news'}"
      ]
     },
     "execution_count": 16,
     "metadata": {},
     "output_type": "execute_result"
    }
   ],
   "source": [
    "x\n",
    "if 'score' in x['outcome']:\n",
    "    print('ok')\n",
    "\n",
    "outcome\n"
   ]
  },
  {
   "cell_type": "code",
   "execution_count": 8,
   "metadata": {},
   "outputs": [],
   "source": [
    "def getBiasScore(credibility, polarity, subjectivity):\n",
    "            \n",
    "    IncredibilityPercent = (100-credibility)\n",
    "    PolarityPercent = (polarity)*100\n",
    "    SubjectivityPercent = (subjectivity)*100\n",
    "    \n",
    "    if (credibility >= 0):\n",
    "        BiasIndicator = ((IncredibilityPercent + abs(PolarityPercent) + SubjectivityPercent)/3)\n",
    "    else:\n",
    "        BiasIndicator = ((abs(PolarityPercent)) + SubjectivityPercent)/2\n",
    "\n",
    "    response = {'type':'bias','outcome':{'score':BiasIndicator}}\n",
    "    return response\n"
   ]
  },
  {
   "cell_type": "code",
   "execution_count": null,
   "metadata": {},
   "outputs": [],
   "source": [
    "import getBiasScore as bs\n",
    "\n",
    "    if 'error' in return_dict['outcome']:\n",
    "        cred_input = -1\n",
    "    else:\n",
    "        cred_input = return_dict['outcome']['score']\n",
    "\n",
    "    try:\n",
    "        biasscoreresult = bs.getBiasScore(cred_input,      )\n",
    "        object['results'].append(credibilityresult)\n",
    "    except Exception as e:\n",
    "        object['results'].append({'type': 'credibility', 'outcome': {\"error\" : \"The credibility score was not available.\"}})\n"
   ]
  },
  {
   "cell_type": "code",
   "execution_count": 44,
   "metadata": {},
   "outputs": [],
   "source": [
    "#return_dict = {'type': 'credibility', 'outcome' : { 'score': 90}}#, 'source': p_source, 'category': p_category }}\n",
    "return_dict = {'type': 'credibility', 'outcome': {\"error\" : \"The credibility score was not available.\"}}\n"
   ]
  },
  {
   "cell_type": "code",
   "execution_count": 33,
   "metadata": {},
   "outputs": [
    {
     "data": {
      "text/plain": [
       "'The credibility score was not available.'"
      ]
     },
     "execution_count": 33,
     "metadata": {},
     "output_type": "execute_result"
    }
   ],
   "source": [
    "#return_dict['outcome']['error']\n",
    "#return_dict['outcome']['score']\n"
   ]
  },
  {
   "cell_type": "code",
   "execution_count": 45,
   "metadata": {},
   "outputs": [
    {
     "data": {
      "text/plain": [
       "-1"
      ]
     },
     "execution_count": 45,
     "metadata": {},
     "output_type": "execute_result"
    }
   ],
   "source": [
    "if 'error' in return_dict['outcome']:\n",
    "    cred_input = -1\n",
    "else:\n",
    "    cred_input = return_dict['outcome']['score']\n",
    "\n",
    "cred_input\n",
    "\n",
    "#if credibilityresult['text'] == '-1':"
   ]
  },
  {
   "cell_type": "code",
   "execution_count": 2,
   "metadata": {},
   "outputs": [],
   "source": [
    "from aws_xray_sdk.core import xray_recorder\n",
    "from aws_xray_sdk.core import patch\n"
   ]
  },
  {
   "cell_type": "code",
   "execution_count": null,
   "metadata": {},
   "outputs": [],
   "source": []
  },
  {
   "cell_type": "code",
   "execution_count": null,
   "metadata": {},
   "outputs": [],
   "source": []
  },
  {
   "cell_type": "code",
   "execution_count": null,
   "metadata": {},
   "outputs": [],
   "source": []
  },
  {
   "cell_type": "code",
   "execution_count": null,
   "metadata": {},
   "outputs": [],
   "source": []
  },
  {
   "cell_type": "code",
   "execution_count": 3,
   "metadata": {},
   "outputs": [],
   "source": [
    "from aws_xray_sdk.core import xray_recorder\n",
    "import sys\n",
    "import logging\n",
    "import traceback\n",
    "from newspaper import Article \n",
    "import nltk\n",
    "\n",
    "## Function: getText\n",
    "## Input: URL\n",
    "## Output: Unformatted TEXT extracted from the URL and ARTICLE\n",
    "## Author: The Sentimentalists / Ana B Potje\n",
    "## Date: 24/Sep/2020\n",
    "## Last Modified: 22/Oct/2020\n",
    "##\n",
    "## This function uses the Python Library Newspaper, which reads the article from the URL,\n",
    "## remove some unwanted characters and words, so the unformatted text is stored in a variable \"text\".\n",
    "## It then applies the \"nlp()\" function to perform natural language processing on the news article.\n",
    "##\n",
    "## The objects \"text\" and \"article\" are the output of this function.\n",
    "##\n",
    "## PS: Use of the \"article\" object:\n",
    "##   news_article = getArticle(\"https://www.bbc.co.uk/news/uk-54234084\")\n",
    "##   news_article.top_image\n",
    "##   >>> https://ichef.bbci.co.uk/images/ic/1024x576/p08s2yp9.jpg\n",
    "##   news_article.keywords\n",
    "##   >>> ['action', '50000', 'patrick', 'face', 'covid19', 'restrictions', 'governments', ...]\n",
    "##   news_article.summary\n",
    "##   >>> Sir Patrick Vallance said that would be expected to lead to about \"200-plus deaths per day\" a \n",
    "##       month after that. On Monday, a further 4,368 daily cases were reported in the UK, up from 3,899....\n",
    "###########################################################################################################\n",
    "\n",
    "logger = logging.getLogger()\n",
    "logger.setLevel(logging.INFO)\n",
    "nltk.data.path.append(\"./nltk_data\")\n",
    "\n",
    "@xray_recorder.capture('getText')\n",
    "def getText(url):\n",
    "    \n",
    "    logger.info(f'getText: initialised Article and ntlk')\n",
    "    ### Getting the ARTICLE\n",
    "    try:\n",
    "        print(\"getText: Initialising Article...\")\n",
    "        subsegment = xray_recorder.begin_subsegment('getText: init article')\n",
    "        article = Article(url)\n",
    "        xray_recorder.end_subsegment()\n",
    "\n",
    "        print(\"getText: Downloading Article...\")\n",
    "        subsegment = xray_recorder.begin_subsegment('getText: download article')\n",
    "        article.download()\n",
    "        xray_recorder.end_subsegment()\n",
    "\n",
    "        print(\"getText: Parsing Article...\")\n",
    "        subsegment = xray_recorder.begin_subsegment('getText: parse article')\n",
    "        article.parse()\n",
    "        xray_recorder.end_subsegment()\n",
    "    ### Exception - e.g if URL is \"valid\" but inexistent, no text will be retrieved\n",
    "    except Exception as e: \n",
    "        print(\"getText: Exception: \" + str(e))\n",
    "        return  {'text': '-1',\n",
    "                 'header': '', \n",
    "                 'summary': '',\n",
    "                 'keywords':''}\n",
    "\n",
    "    subsegment = xray_recorder.begin_subsegment('getText: nlp article')\n",
    "    article.nlp()\n",
    "    xray_recorder.end_subsegment()\n",
    "    text = article.text\n",
    "\n",
    "    ### Removing unwanted formatting\n",
    "    text = text.replace(\"\\n\\n\", \"\")\n",
    "    text = text.replace(\"Image copyright Getty Images \", \"\")\n",
    "    text = text.replace(\"Image copyright Getty Images/Reuters\", \"\")\n",
    "    text = text.replace(\"Image caption \", \"\")\n",
    "    text = text.replace(\"Media playback is unsupported on your device \", \"\")\n",
    "    text = text.replace(\"Media caption \", \"\")\n",
    "\n",
    "\n",
    "    return  {'text': text,\n",
    "             'header': article.title, \n",
    "             'summary': article.summary,\n",
    "             'keywords': article.keywords}\n"
   ]
  },
  {
   "cell_type": "code",
   "execution_count": 4,
   "metadata": {},
   "outputs": [
    {
     "name": "stderr",
     "output_type": "stream",
     "text": [
      "cannot find the current segment/subsegment, please make sure you have a segment open\n"
     ]
    },
    {
     "ename": "SegmentNotFoundException",
     "evalue": "cannot find the current segment/subsegment, please make sure you have a segment open",
     "output_type": "error",
     "traceback": [
      "\u001b[1;31m---------------------------------------------------------------------------\u001b[0m",
      "\u001b[1;31mSegmentNotFoundException\u001b[0m                  Traceback (most recent call last)",
      "\u001b[1;32m<ipython-input-4-b3648b931e93>\u001b[0m in \u001b[0;36m<module>\u001b[1;34m\u001b[0m\n\u001b[0;32m      1\u001b[0m \u001b[0murl\u001b[0m \u001b[1;33m=\u001b[0m \u001b[1;34m\"https://www.bbc.co.uk/news/election-us-2020-54350538\"\u001b[0m\u001b[1;33m\u001b[0m\u001b[1;33m\u001b[0m\u001b[0m\n\u001b[1;32m----> 2\u001b[1;33m \u001b[0mgetText\u001b[0m\u001b[1;33m(\u001b[0m\u001b[0murl\u001b[0m\u001b[1;33m)\u001b[0m\u001b[1;33m\u001b[0m\u001b[1;33m\u001b[0m\u001b[0m\n\u001b[0m",
      "\u001b[1;32mC:\\Anaconda3\\envs\\sentim\\lib\\site-packages\\aws_xray_sdk\\core\\models\\subsegment.py\u001b[0m in \u001b[0;36m__call__\u001b[1;34m(self, wrapped, instance, args, kwargs)\u001b[0m\n\u001b[0;32m     52\u001b[0m             \u001b[0mfunc_name\u001b[0m \u001b[1;33m=\u001b[0m \u001b[0mwrapped\u001b[0m\u001b[1;33m.\u001b[0m\u001b[0m__name__\u001b[0m\u001b[1;33m\u001b[0m\u001b[1;33m\u001b[0m\u001b[0m\n\u001b[0;32m     53\u001b[0m \u001b[1;33m\u001b[0m\u001b[0m\n\u001b[1;32m---> 54\u001b[1;33m         return self.recorder.record_subsegment(\n\u001b[0m\u001b[0;32m     55\u001b[0m             \u001b[0mwrapped\u001b[0m\u001b[1;33m,\u001b[0m \u001b[0minstance\u001b[0m\u001b[1;33m,\u001b[0m \u001b[0margs\u001b[0m\u001b[1;33m,\u001b[0m \u001b[0mkwargs\u001b[0m\u001b[1;33m,\u001b[0m\u001b[1;33m\u001b[0m\u001b[1;33m\u001b[0m\u001b[0m\n\u001b[0;32m     56\u001b[0m             \u001b[0mname\u001b[0m\u001b[1;33m=\u001b[0m\u001b[0mfunc_name\u001b[0m\u001b[1;33m,\u001b[0m\u001b[1;33m\u001b[0m\u001b[1;33m\u001b[0m\u001b[0m\n",
      "\u001b[1;32mC:\\Anaconda3\\envs\\sentim\\lib\\site-packages\\aws_xray_sdk\\core\\recorder.py\u001b[0m in \u001b[0;36mrecord_subsegment\u001b[1;34m(self, wrapped, instance, args, kwargs, name, namespace, meta_processor)\u001b[0m\n\u001b[0;32m    426\u001b[0m                           namespace, meta_processor):\n\u001b[0;32m    427\u001b[0m \u001b[1;33m\u001b[0m\u001b[0m\n\u001b[1;32m--> 428\u001b[1;33m         \u001b[0msubsegment\u001b[0m \u001b[1;33m=\u001b[0m \u001b[0mself\u001b[0m\u001b[1;33m.\u001b[0m\u001b[0mbegin_subsegment\u001b[0m\u001b[1;33m(\u001b[0m\u001b[0mname\u001b[0m\u001b[1;33m,\u001b[0m \u001b[0mnamespace\u001b[0m\u001b[1;33m)\u001b[0m\u001b[1;33m\u001b[0m\u001b[1;33m\u001b[0m\u001b[0m\n\u001b[0m\u001b[0;32m    429\u001b[0m \u001b[1;33m\u001b[0m\u001b[0m\n\u001b[0;32m    430\u001b[0m         \u001b[0mexception\u001b[0m \u001b[1;33m=\u001b[0m \u001b[1;32mNone\u001b[0m\u001b[1;33m\u001b[0m\u001b[1;33m\u001b[0m\u001b[0m\n",
      "\u001b[1;32mC:\\Anaconda3\\envs\\sentim\\lib\\site-packages\\aws_xray_sdk\\core\\recorder.py\u001b[0m in \u001b[0;36mbegin_subsegment\u001b[1;34m(self, name, namespace)\u001b[0m\n\u001b[0;32m    290\u001b[0m             \u001b[1;32mreturn\u001b[0m \u001b[0mDummySubsegment\u001b[0m\u001b[1;33m(\u001b[0m\u001b[0mDummySegment\u001b[0m\u001b[1;33m(\u001b[0m\u001b[0mglobal_sdk_config\u001b[0m\u001b[1;33m.\u001b[0m\u001b[0mDISABLED_ENTITY_NAME\u001b[0m\u001b[1;33m)\u001b[0m\u001b[1;33m)\u001b[0m\u001b[1;33m\u001b[0m\u001b[1;33m\u001b[0m\u001b[0m\n\u001b[0;32m    291\u001b[0m \u001b[1;33m\u001b[0m\u001b[0m\n\u001b[1;32m--> 292\u001b[1;33m         \u001b[0msegment\u001b[0m \u001b[1;33m=\u001b[0m \u001b[0mself\u001b[0m\u001b[1;33m.\u001b[0m\u001b[0mcurrent_segment\u001b[0m\u001b[1;33m(\u001b[0m\u001b[1;33m)\u001b[0m\u001b[1;33m\u001b[0m\u001b[1;33m\u001b[0m\u001b[0m\n\u001b[0m\u001b[0;32m    293\u001b[0m         \u001b[1;32mif\u001b[0m \u001b[1;32mnot\u001b[0m \u001b[0msegment\u001b[0m\u001b[1;33m:\u001b[0m\u001b[1;33m\u001b[0m\u001b[1;33m\u001b[0m\u001b[0m\n\u001b[0;32m    294\u001b[0m             \u001b[0mlog\u001b[0m\u001b[1;33m.\u001b[0m\u001b[0mwarning\u001b[0m\u001b[1;33m(\u001b[0m\u001b[1;34m\"No segment found, cannot begin subsegment %s.\"\u001b[0m \u001b[1;33m%\u001b[0m \u001b[0mname\u001b[0m\u001b[1;33m)\u001b[0m\u001b[1;33m\u001b[0m\u001b[1;33m\u001b[0m\u001b[0m\n",
      "\u001b[1;32mC:\\Anaconda3\\envs\\sentim\\lib\\site-packages\\aws_xray_sdk\\core\\recorder.py\u001b[0m in \u001b[0;36mcurrent_segment\u001b[1;34m(self)\u001b[0m\n\u001b[0;32m    268\u001b[0m         \"\"\"\n\u001b[0;32m    269\u001b[0m \u001b[1;33m\u001b[0m\u001b[0m\n\u001b[1;32m--> 270\u001b[1;33m         \u001b[0mentity\u001b[0m \u001b[1;33m=\u001b[0m \u001b[0mself\u001b[0m\u001b[1;33m.\u001b[0m\u001b[0mget_trace_entity\u001b[0m\u001b[1;33m(\u001b[0m\u001b[1;33m)\u001b[0m\u001b[1;33m\u001b[0m\u001b[1;33m\u001b[0m\u001b[0m\n\u001b[0m\u001b[0;32m    271\u001b[0m         \u001b[1;32mif\u001b[0m \u001b[0mself\u001b[0m\u001b[1;33m.\u001b[0m\u001b[0m_is_subsegment\u001b[0m\u001b[1;33m(\u001b[0m\u001b[0mentity\u001b[0m\u001b[1;33m)\u001b[0m\u001b[1;33m:\u001b[0m\u001b[1;33m\u001b[0m\u001b[1;33m\u001b[0m\u001b[0m\n\u001b[0;32m    272\u001b[0m             \u001b[1;32mreturn\u001b[0m \u001b[0mentity\u001b[0m\u001b[1;33m.\u001b[0m\u001b[0mparent_segment\u001b[0m\u001b[1;33m\u001b[0m\u001b[1;33m\u001b[0m\u001b[0m\n",
      "\u001b[1;32mC:\\Anaconda3\\envs\\sentim\\lib\\site-packages\\aws_xray_sdk\\core\\recorder.py\u001b[0m in \u001b[0;36mget_trace_entity\u001b[1;34m(self)\u001b[0m\n\u001b[0;32m    388\u001b[0m         \u001b[0mA\u001b[0m \u001b[1;32mpass\u001b[0m \u001b[0mthrough\u001b[0m \u001b[0mmethod\u001b[0m \u001b[0mto\u001b[0m\u001b[0;31m \u001b[0m\u001b[0;31m`\u001b[0m\u001b[0;31m`\u001b[0m\u001b[0mcontext\u001b[0m\u001b[1;33m.\u001b[0m\u001b[0mget_trace_entity\u001b[0m\u001b[1;33m(\u001b[0m\u001b[1;33m)\u001b[0m\u001b[0;31m`\u001b[0m\u001b[0;31m`\u001b[0m\u001b[1;33m.\u001b[0m\u001b[1;33m\u001b[0m\u001b[1;33m\u001b[0m\u001b[0m\n\u001b[0;32m    389\u001b[0m         \"\"\"\n\u001b[1;32m--> 390\u001b[1;33m         \u001b[1;32mreturn\u001b[0m \u001b[0mself\u001b[0m\u001b[1;33m.\u001b[0m\u001b[0mcontext\u001b[0m\u001b[1;33m.\u001b[0m\u001b[0mget_trace_entity\u001b[0m\u001b[1;33m(\u001b[0m\u001b[1;33m)\u001b[0m\u001b[1;33m\u001b[0m\u001b[1;33m\u001b[0m\u001b[0m\n\u001b[0m\u001b[0;32m    391\u001b[0m \u001b[1;33m\u001b[0m\u001b[0m\n\u001b[0;32m    392\u001b[0m     \u001b[1;32mdef\u001b[0m \u001b[0mset_trace_entity\u001b[0m\u001b[1;33m(\u001b[0m\u001b[0mself\u001b[0m\u001b[1;33m,\u001b[0m \u001b[0mtrace_entity\u001b[0m\u001b[1;33m)\u001b[0m\u001b[1;33m:\u001b[0m\u001b[1;33m\u001b[0m\u001b[1;33m\u001b[0m\u001b[0m\n",
      "\u001b[1;32mC:\\Anaconda3\\envs\\sentim\\lib\\site-packages\\aws_xray_sdk\\core\\context.py\u001b[0m in \u001b[0;36mget_trace_entity\u001b[1;34m(self)\u001b[0m\n\u001b[0;32m     97\u001b[0m             \u001b[1;32mif\u001b[0m \u001b[1;32mnot\u001b[0m \u001b[0mglobal_sdk_config\u001b[0m\u001b[1;33m.\u001b[0m\u001b[0msdk_enabled\u001b[0m\u001b[1;33m(\u001b[0m\u001b[1;33m)\u001b[0m\u001b[1;33m:\u001b[0m\u001b[1;33m\u001b[0m\u001b[1;33m\u001b[0m\u001b[0m\n\u001b[0;32m     98\u001b[0m                 \u001b[1;32mreturn\u001b[0m \u001b[0mDummySegment\u001b[0m\u001b[1;33m(\u001b[0m\u001b[1;33m)\u001b[0m\u001b[1;33m\u001b[0m\u001b[1;33m\u001b[0m\u001b[0m\n\u001b[1;32m---> 99\u001b[1;33m             \u001b[1;32mreturn\u001b[0m \u001b[0mself\u001b[0m\u001b[1;33m.\u001b[0m\u001b[0mhandle_context_missing\u001b[0m\u001b[1;33m(\u001b[0m\u001b[1;33m)\u001b[0m\u001b[1;33m\u001b[0m\u001b[1;33m\u001b[0m\u001b[0m\n\u001b[0m\u001b[0;32m    100\u001b[0m \u001b[1;33m\u001b[0m\u001b[0m\n\u001b[0;32m    101\u001b[0m         \u001b[1;32mreturn\u001b[0m \u001b[0mself\u001b[0m\u001b[1;33m.\u001b[0m\u001b[0m_local\u001b[0m\u001b[1;33m.\u001b[0m\u001b[0mentities\u001b[0m\u001b[1;33m[\u001b[0m\u001b[1;33m-\u001b[0m\u001b[1;36m1\u001b[0m\u001b[1;33m]\u001b[0m\u001b[1;33m\u001b[0m\u001b[1;33m\u001b[0m\u001b[0m\n",
      "\u001b[1;32mC:\\Anaconda3\\envs\\sentim\\lib\\site-packages\\aws_xray_sdk\\core\\context.py\u001b[0m in \u001b[0;36mhandle_context_missing\u001b[1;34m(self)\u001b[0m\n\u001b[0;32m    122\u001b[0m         \u001b[1;32mif\u001b[0m \u001b[0mself\u001b[0m\u001b[1;33m.\u001b[0m\u001b[0mcontext_missing\u001b[0m \u001b[1;33m==\u001b[0m \u001b[1;34m'RUNTIME_ERROR'\u001b[0m\u001b[1;33m:\u001b[0m\u001b[1;33m\u001b[0m\u001b[1;33m\u001b[0m\u001b[0m\n\u001b[0;32m    123\u001b[0m             \u001b[0mlog\u001b[0m\u001b[1;33m.\u001b[0m\u001b[0merror\u001b[0m\u001b[1;33m(\u001b[0m\u001b[0mMISSING_SEGMENT_MSG\u001b[0m\u001b[1;33m)\u001b[0m\u001b[1;33m\u001b[0m\u001b[1;33m\u001b[0m\u001b[0m\n\u001b[1;32m--> 124\u001b[1;33m             \u001b[1;32mraise\u001b[0m \u001b[0mSegmentNotFoundException\u001b[0m\u001b[1;33m(\u001b[0m\u001b[0mMISSING_SEGMENT_MSG\u001b[0m\u001b[1;33m)\u001b[0m\u001b[1;33m\u001b[0m\u001b[1;33m\u001b[0m\u001b[0m\n\u001b[0m\u001b[0;32m    125\u001b[0m         \u001b[1;32melse\u001b[0m\u001b[1;33m:\u001b[0m\u001b[1;33m\u001b[0m\u001b[1;33m\u001b[0m\u001b[0m\n\u001b[0;32m    126\u001b[0m             \u001b[0mlog\u001b[0m\u001b[1;33m.\u001b[0m\u001b[0merror\u001b[0m\u001b[1;33m(\u001b[0m\u001b[0mMISSING_SEGMENT_MSG\u001b[0m\u001b[1;33m)\u001b[0m\u001b[1;33m\u001b[0m\u001b[1;33m\u001b[0m\u001b[0m\n",
      "\u001b[1;31mSegmentNotFoundException\u001b[0m: cannot find the current segment/subsegment, please make sure you have a segment open"
     ]
    }
   ],
   "source": [
    "url = \"https://www.bbc.co.uk/news/election-us-2020-54350538\"\n",
    "getText(url)\n"
   ]
  },
  {
   "cell_type": "code",
   "execution_count": null,
   "metadata": {},
   "outputs": [],
   "source": []
  },
  {
   "cell_type": "code",
   "execution_count": null,
   "metadata": {},
   "outputs": [],
   "source": []
  }
 ],
 "metadata": {
  "kernelspec": {
   "display_name": "Python 3",
   "language": "python",
   "name": "python3"
  },
  "language_info": {
   "codemirror_mode": {
    "name": "ipython",
    "version": 3
   },
   "file_extension": ".py",
   "mimetype": "text/x-python",
   "name": "python",
   "nbconvert_exporter": "python",
   "pygments_lexer": "ipython3",
   "version": "3.8.5"
  }
 },
 "nbformat": 4,
 "nbformat_minor": 2
}
